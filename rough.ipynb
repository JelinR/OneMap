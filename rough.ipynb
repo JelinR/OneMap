{
 "cells": [
  {
   "cell_type": "markdown",
   "id": "b03bceb7",
   "metadata": {},
   "source": [
    "### Checking Step Actions HM3D"
   ]
  },
  {
   "cell_type": "code",
   "execution_count": 1,
   "id": "4523ff45",
   "metadata": {},
   "outputs": [],
   "source": [
    "import os\n",
    "import json\n",
    "import numpy as np\n",
    "from tqdm import tqdm"
   ]
  },
  {
   "cell_type": "code",
   "execution_count": null,
   "id": "da20887b",
   "metadata": {},
   "outputs": [],
   "source": [
    "# def update_step_actions(root_dir = \"/mnt/vlfm_query_embed/embed_results/hm3d/grid_20/\",\n",
    "#                         save_dir = \"/mnt/vlfm_query_embed/embed_results/hm3d/grid_20/step_actions_upd\"):\n",
    "\n",
    "#     init_dir = os.path.join(root_dir, \"init_dicts\")\n",
    "#     steps_dir = os.path.join(root_dir, \"step_actions\")\n",
    "#     embed_dir = os.path.join(root_dir, \"embed_dicts\")\n",
    "\n",
    "#     os.makedirs(save_dir, exist_ok=True)\n",
    "#     print(f\"Created Directory for Saving Updated Step-Actions!\\n\")\n",
    "\n",
    "#     for steps_file in tqdm(os.listdir(steps_dir)):\n",
    "\n",
    "#         scene_id = steps_file.split(\"_\")[1]\n",
    "\n",
    "#         #Get Episode ID\n",
    "#         scene_embed_dir = os.path.join(embed_dir, f\"{scene_id}\")\n",
    "#         file_with_episode = [file for file in os.listdir(scene_embed_dir) if file.__contains__(\"_ep_\")]\n",
    "#         episode_id = file_with_episode[0].split(\"_\")[-1].split(\".\")[0]\n",
    "\n",
    "#         #Get Step Actions (with only steps, no meta info)\n",
    "#         steps_path = os.path.join(steps_dir, steps_file)\n",
    "#         steps = dict(np.load(steps_path, allow_pickle=True))\n",
    "\n",
    "#         print(f\"\\nSteps file: {steps_file}, Scene: {scene_id}, Episode: {episode_id}\")\n",
    "\n",
    "#         #Get initializing info\n",
    "#         init_path = os.path.join(init_dir, f\"init_dict_model_BLIP2_scene_{scene_id}.npz\")\n",
    "#         init_dict = dict(np.load(init_path, allow_pickle = True))\n",
    "#         init_pose = init_dict[\"init_pose\"].item()\n",
    "#         start_pos, start_rot = init_pose[\"init_pos_abs\"], init_pose[\"init_rot_abs\"]\n",
    "\n",
    "#         #print(start_pos, start_rot)\n",
    "\n",
    "#         #Update steps info\n",
    "#         steps[\"init_pos_abs\"] = start_pos\n",
    "#         steps[\"init_rot_abs\"] = start_rot\n",
    "#         steps[\"scene\"] = scene_id\n",
    "#         steps[\"episode\"] = episode_id\n",
    "\n",
    "\n",
    "#         #Save the updated step-actions\n",
    "#         save_path = os.path.join(save_dir, f\"step_actions_scene_{scene_id}_ep_{episode_id}.npz\")\n",
    "#         # np.savez(save_path, **steps)\n",
    "#         # print(\"Saved File!\")\n",
    "\n",
    "#         # break\n",
    "\n",
    "\n",
    "\n",
    "# update_step_actions()"
   ]
  },
  {
   "cell_type": "code",
   "execution_count": 5,
   "id": "5899474b",
   "metadata": {},
   "outputs": [
    {
     "data": {
      "text/plain": [
       "dict_keys(['map_shape', 'pixel_origin', 'pixels_per_meter', 'init_pose', 'floor'])"
      ]
     },
     "execution_count": 5,
     "metadata": {},
     "output_type": "execute_result"
    }
   ],
   "source": [
    "init_dir = \"/mnt/vlfm_query_embed/embed_results/hm3d/grid_20/init_dicts\"\n",
    "init_path = os.path.join(init_dir, 'init_dict_model_BLIP2_scene_cvZr5TUy5C5.npz')\n",
    "\n",
    "init_dict = dict(np.load(init_path, allow_pickle=True))\n",
    "init_dict.keys()"
   ]
  },
  {
   "cell_type": "code",
   "execution_count": 16,
   "id": "73bda6ac",
   "metadata": {},
   "outputs": [
    {
     "data": {
      "text/plain": [
       "{'init_pos_abs': [-3.33989, 0.07216, 2.86076],\n",
       " 'init_rot_abs': [0, 0.118, 0, 0.99301]}"
      ]
     },
     "execution_count": 16,
     "metadata": {},
     "output_type": "execute_result"
    }
   ],
   "source": [
    "init_dict[\"init_pose\"].item()"
   ]
  },
  {
   "cell_type": "code",
   "execution_count": null,
   "id": "becc25c9",
   "metadata": {},
   "outputs": [],
   "source": [
    "steps_dir = \"/mnt/vlfm_query_embed/embed_results/hm3d/grid_20/step_actions\"\n",
    "steps_file = os.path.join(steps_dir, 'scene_cvZr5TUy5C5_step_actions.npz')\n",
    "\n",
    "step_actions = dict(np.load(steps_file, allow_pickle=True))\n",
    "step_actions"
   ]
  },
  {
   "cell_type": "code",
   "execution_count": 6,
   "id": "5bdddc26",
   "metadata": {},
   "outputs": [
    {
     "name": "stdout",
     "output_type": "stream",
     "text": [
      "394\n",
      "348\n",
      "634\n",
      "503\n",
      "222\n",
      "159\n",
      "782\n",
      "176\n",
      "359\n",
      "97\n",
      "573\n",
      "466\n",
      "257\n",
      "230\n",
      "208\n",
      "218\n",
      "389\n",
      "348\n",
      "555\n",
      "304\n"
     ]
    }
   ],
   "source": [
    "steps_dir = \"/mnt/vlfm_query_embed/embed_results/hm3d/grid_20/step_actions\"\n",
    "\n",
    "for file in os.listdir(steps_dir):\n",
    "\n",
    "    steps_file = os.path.join(steps_dir, file)\n",
    "    step_actions = dict(np.load(steps_file, allow_pickle=True))\n",
    "\n",
    "    step_actions = {int(k): v for k, v in step_actions.items()}\n",
    "\n",
    "    keys = list(step_actions.keys())\n",
    "    print(max(keys))\n",
    "\n",
    "    max_steps = max(keys)\n",
    "    if max_steps >= 1000: print(file)\n",
    "\n",
    "    #if file.__contains__(\"cvZr5TUy5C5\"): break\n",
    "\n",
    "#step_actions"
   ]
  },
  {
   "cell_type": "code",
   "execution_count": 5,
   "id": "828ac7ea",
   "metadata": {},
   "outputs": [
    {
     "data": {
      "text/plain": [
       "{'0': array([[2]]),\n",
       " '1': array([[2]]),\n",
       " '2': array([[2]]),\n",
       " '3': array([[2]]),\n",
       " '4': array([[2]]),\n",
       " '5': array([[2]]),\n",
       " '6': array([[2]]),\n",
       " '7': array([[2]]),\n",
       " '8': array([[2]]),\n",
       " '9': array([[2]]),\n",
       " '10': array([[2]]),\n",
       " '11': array([[2]]),\n",
       " '12': array([[2]]),\n",
       " '13': array([[1]]),\n",
       " '14': array([[1]]),\n",
       " '15': array([[1]]),\n",
       " '16': array([[1]]),\n",
       " '17': array([[1]]),\n",
       " '18': array([[1]]),\n",
       " '19': array([[1]]),\n",
       " '20': array([[3]]),\n",
       " '21': array([[3]]),\n",
       " '22': array([[1]]),\n",
       " '23': array([[1]]),\n",
       " '24': array([[1]]),\n",
       " '25': array([[1]]),\n",
       " '26': array([[2]]),\n",
       " '27': array([[1]]),\n",
       " '28': array([[1]]),\n",
       " '29': array([[1]]),\n",
       " '30': array([[3]]),\n",
       " '31': array([[1]]),\n",
       " '32': array([[1]]),\n",
       " '33': array([[1]]),\n",
       " '34': array([[1]]),\n",
       " '35': array([[1]]),\n",
       " '36': array([[1]]),\n",
       " '37': array([[2]]),\n",
       " '38': array([[2]]),\n",
       " '39': array([[1]]),\n",
       " '40': array([[1]]),\n",
       " '41': array([[1]]),\n",
       " '42': array([[1]]),\n",
       " '43': array([[1]]),\n",
       " '44': array([[1]]),\n",
       " '45': array([[2]]),\n",
       " '46': array([[2]]),\n",
       " '47': array([[2]]),\n",
       " '48': array([[2]]),\n",
       " '49': array([[3]]),\n",
       " '50': array([[3]]),\n",
       " '51': array([[3]]),\n",
       " '52': array([[1]]),\n",
       " '53': array([[1]]),\n",
       " '54': array([[1]]),\n",
       " '55': array([[2]]),\n",
       " '56': array([[2]]),\n",
       " '57': array([[2]]),\n",
       " '58': array([[2]]),\n",
       " '59': array([[2]]),\n",
       " '60': array([[2]]),\n",
       " '61': array([[2]]),\n",
       " '62': array([[2]]),\n",
       " '63': array([[3]]),\n",
       " '64': array([[3]]),\n",
       " '65': array([[1]]),\n",
       " '66': array([[1]]),\n",
       " '67': array([[1]]),\n",
       " '68': array([[1]]),\n",
       " '69': array([[1]]),\n",
       " '70': array([[1]]),\n",
       " '71': array([[1]]),\n",
       " '72': array([[1]]),\n",
       " '73': array([[1]]),\n",
       " '74': array([[2]]),\n",
       " '75': array([[2]]),\n",
       " '76': array([[2]]),\n",
       " '77': array([[3]]),\n",
       " '78': array([[3]]),\n",
       " '79': array([[1]]),\n",
       " '80': array([[1]]),\n",
       " '81': array([[1]]),\n",
       " '82': array([[2]]),\n",
       " '83': array([[2]]),\n",
       " '84': array([[2]]),\n",
       " '85': array([[3]]),\n",
       " '86': array([[3]]),\n",
       " '87': array([[3]]),\n",
       " '88': array([[1]]),\n",
       " '89': array([[1]]),\n",
       " '90': array([[1]]),\n",
       " '91': array([[1]]),\n",
       " '92': array([[1]]),\n",
       " '93': array([[1]]),\n",
       " '94': array([[1]]),\n",
       " '95': array([[1]]),\n",
       " '96': array([[1]]),\n",
       " '97': array([[1]]),\n",
       " '98': array([[1]]),\n",
       " '99': array([[2]]),\n",
       " '100': array([[1]]),\n",
       " '101': array([[1]]),\n",
       " '102': array([[2]]),\n",
       " '103': array([[1]]),\n",
       " '104': array([[1]]),\n",
       " '105': array([[1]]),\n",
       " '106': array([[1]]),\n",
       " '107': array([[1]]),\n",
       " '108': array([[1]]),\n",
       " '109': array([[1]]),\n",
       " '110': array([[1]]),\n",
       " '111': array([[1]]),\n",
       " '112': array([[3]]),\n",
       " '113': array([[3]]),\n",
       " '114': array([[3]]),\n",
       " '115': array([[3]]),\n",
       " '116': array([[3]]),\n",
       " '117': array([[3]]),\n",
       " '118': array([[3]]),\n",
       " '119': array([[3]]),\n",
       " '120': array([[3]]),\n",
       " '121': array([[3]]),\n",
       " '122': array([[2]]),\n",
       " '123': array([[2]]),\n",
       " '124': array([[2]]),\n",
       " '125': array([[2]]),\n",
       " '126': array([[1]]),\n",
       " '127': array([[1]]),\n",
       " '128': array([[1]]),\n",
       " '129': array([[1]]),\n",
       " '130': array([[1]]),\n",
       " '131': array([[2]]),\n",
       " '132': array([[1]]),\n",
       " '133': array([[1]]),\n",
       " '134': array([[2]]),\n",
       " '135': array([[1]]),\n",
       " '136': array([[1]]),\n",
       " '137': array([[1]]),\n",
       " '138': array([[3]]),\n",
       " '139': array([[1]]),\n",
       " '140': array([[1]]),\n",
       " '141': array([[1]]),\n",
       " '142': array([[1]]),\n",
       " '143': array([[1]]),\n",
       " '144': array([[3]]),\n",
       " '145': array([[1]]),\n",
       " '146': array([[3]]),\n",
       " '147': array([[1]]),\n",
       " '148': array([[2]]),\n",
       " '149': array([[2]]),\n",
       " '150': array([[2]]),\n",
       " '151': array([[1]]),\n",
       " '152': array([[1]]),\n",
       " '153': array([[1]]),\n",
       " '154': array([[3]]),\n",
       " '155': array([[1]]),\n",
       " '156': array([[1]]),\n",
       " '157': array([[2]]),\n",
       " '158': array([[2]]),\n",
       " '159': array([[2]]),\n",
       " '160': array([[2]]),\n",
       " '161': array([[2]]),\n",
       " '162': array([[2]]),\n",
       " '163': array([[2]]),\n",
       " '164': array([[3]]),\n",
       " '165': array([[1]]),\n",
       " '166': array([[1]]),\n",
       " '167': array([[1]]),\n",
       " '168': array([[2]]),\n",
       " '169': array([[2]]),\n",
       " '170': array([[1]]),\n",
       " '171': array([[1]]),\n",
       " '172': array([[3]]),\n",
       " '173': array([[1]]),\n",
       " '174': array([[1]]),\n",
       " '175': array([[3]]),\n",
       " '176': array([[1]]),\n",
       " '177': array([[1]]),\n",
       " '178': array([[2]]),\n",
       " '179': array([[2]]),\n",
       " '180': array([[2]]),\n",
       " '181': array([[1]]),\n",
       " '182': array([[1]]),\n",
       " '183': array([[1]]),\n",
       " '184': array([[3]]),\n",
       " '185': array([[1]]),\n",
       " '186': array([[1]]),\n",
       " '187': array([[3]]),\n",
       " '188': array([[3]]),\n",
       " '189': array([[2]]),\n",
       " '190': array([[2]]),\n",
       " '191': array([[2]]),\n",
       " '192': array([[2]]),\n",
       " '193': array([[2]]),\n",
       " '194': array([[1]]),\n",
       " '195': array([[1]]),\n",
       " '196': array([[3]]),\n",
       " '197': array([[1]]),\n",
       " '198': array([[3]]),\n",
       " '199': array([[1]]),\n",
       " '200': array([[1]]),\n",
       " '201': array([[1]]),\n",
       " '202': array([[1]]),\n",
       " '203': array([[1]]),\n",
       " '204': array([[2]]),\n",
       " '205': array([[2]]),\n",
       " '206': array([[2]]),\n",
       " '207': array([[2]]),\n",
       " '208': array([[0]]),\n",
       " 'init_pos_abs': array([ 8.30578,  2.06447, -0.95382]),\n",
       " 'init_rot_abs': array([0.     , 0.99195, 0.     , 0.12663]),\n",
       " 'scene': array('4ok3usBNeis', dtype='<U11'),\n",
       " 'episode': array('57', dtype='<U2')}"
      ]
     },
     "execution_count": 5,
     "metadata": {},
     "output_type": "execute_result"
    }
   ],
   "source": [
    "steps_dir = \"/mnt/vlfm_query_embed/embed_results/hm3d/grid_20/step_actions_upd\"\n",
    "steps_file = os.path.join(steps_dir, 'step_actions_scene_4ok3usBNeis_ep_57.npz')\n",
    "\n",
    "step_actions = dict(np.load(steps_file, allow_pickle=True))\n",
    "step_actions"
   ]
  },
  {
   "cell_type": "code",
   "execution_count": 40,
   "id": "6ddef794",
   "metadata": {},
   "outputs": [
    {
     "data": {
      "text/plain": [
       "numpy.int64"
      ]
     },
     "execution_count": 40,
     "metadata": {},
     "output_type": "execute_result"
    }
   ],
   "source": [
    "type(step_actions[\"0\"][0][0])"
   ]
  },
  {
   "cell_type": "markdown",
   "id": "522e516c",
   "metadata": {},
   "source": [
    "### Checking Step Actions for HSSD in OneMap"
   ]
  },
  {
   "cell_type": "code",
   "execution_count": 13,
   "id": "65a397a3",
   "metadata": {},
   "outputs": [],
   "source": [
    "import os"
   ]
  },
  {
   "cell_type": "code",
   "execution_count": 12,
   "id": "89de7e22",
   "metadata": {},
   "outputs": [
    {
     "data": {
      "text/plain": [
       "['step_actions_scene_104348361_171513414_ep_20.npz',\n",
       " 'step_actions_scene_103997895_171031182_ep_20.npz',\n",
       " 'step_actions_scene_106878960_174887073_ep_20.npz',\n",
       " 'step_actions_scene_102817140_ep_20.npz',\n",
       " 'step_actions_scene_102816036_ep_20.npz',\n",
       " 'step_actions_scene_102344094_ep_20.npz',\n",
       " 'step_actions_scene_106366386_174226770_ep_20.npz',\n",
       " 'step_actions_scene_107733960_175999701_ep_6.npz',\n",
       " 'step_actions_scene_106366104_174226332_ep_20.npz',\n",
       " 'step_actions_scene_108736884_177263634_ep_20.npz',\n",
       " 'step_actions_scene_106366410_174226806_ep_20.npz',\n",
       " 'step_actions_scene_107734254_176000121_ep_20.npz',\n",
       " 'step_actions_scene_106879080_174887211_ep_20.npz',\n",
       " 'step_actions_scene_108736779_177263484_ep_6.npz',\n",
       " 'step_actions_scene_108736800_177263517_ep_20.npz',\n",
       " 'step_actions_scene_107734176_176000019_ep_20.npz',\n",
       " 'step_actions_scene_105515211_173104185_ep_20.npz']"
      ]
     },
     "execution_count": 12,
     "metadata": {},
     "output_type": "execute_result"
    }
   ],
   "source": [
    "hssd_steps_dir = \"saved_steps/hssd\"\n",
    "\n",
    "os.listdir(hssd_steps_dir)"
   ]
  },
  {
   "cell_type": "markdown",
   "id": "7da34405",
   "metadata": {},
   "source": [
    "### Checking OneMap Saved Feature Map"
   ]
  },
  {
   "cell_type": "code",
   "execution_count": 14,
   "id": "cc927d61",
   "metadata": {},
   "outputs": [],
   "source": [
    "import os\n",
    "import numpy as np\n",
    "import matplotlib.pyplot as plt"
   ]
  },
  {
   "cell_type": "code",
   "execution_count": 18,
   "id": "034105d6",
   "metadata": {},
   "outputs": [
    {
     "data": {
      "text/plain": [
       "'results/hssd/embed_dicts/embed_dict_scene_102344094.npz'"
      ]
     },
     "execution_count": 18,
     "metadata": {},
     "output_type": "execute_result"
    }
   ],
   "source": [
    "embed_dir = \"results/hssd/embed_dicts\"\n",
    "\n",
    "embed_path = os.path.join(embed_dir, os.listdir(embed_dir)[0])\n",
    "embed_path"
   ]
  },
  {
   "cell_type": "code",
   "execution_count": 19,
   "id": "a6773fd6",
   "metadata": {},
   "outputs": [
    {
     "data": {
      "text/plain": [
       "dict_keys(['arr'])"
      ]
     },
     "execution_count": 19,
     "metadata": {},
     "output_type": "execute_result"
    }
   ],
   "source": [
    "embed_dict = dict(np.load(embed_path, allow_pickle=True))\n",
    "\n",
    "embed_dict.keys()"
   ]
  },
  {
   "cell_type": "code",
   "execution_count": 20,
   "id": "c3435580",
   "metadata": {},
   "outputs": [
    {
     "name": "stdout",
     "output_type": "stream",
     "text": [
      "Shape of Feature Map: (600, 600, 768)\n"
     ]
    },
    {
     "data": {
      "text/plain": [
       "<matplotlib.image.AxesImage at 0x7f40db67cbb0>"
      ]
     },
     "execution_count": 20,
     "metadata": {},
     "output_type": "execute_result"
    },
    {
     "data": {
      "image/png": "[encoded data removed]",
      "text/plain": [
       "<Figure size 640x480 with 1 Axes>"
      ]
     },
     "metadata": {},
     "output_type": "display_data"
    }
   ],
   "source": [
    "print(f\"Shape of Feature Map: {embed_dict['arr'].shape}\")\n",
    "\n",
    "flat_map = embed_dict[\"arr\"].sum(axis = 2)\n",
    "flat_map[flat_map != 0] = 1\n",
    "plt.imshow(flat_map)"
   ]
  },
  {
   "cell_type": "markdown",
   "id": "fb2325ea",
   "metadata": {},
   "source": [
    "### Debugging Habitat Sim Scene Loading"
   ]
  },
  {
   "cell_type": "code",
   "execution_count": 1,
   "id": "52d59db5",
   "metadata": {},
   "outputs": [
    {
     "name": "stderr",
     "output_type": "stream",
     "text": [
      "/mnt/anaconda3/envs/one_map/lib/python3.9/site-packages/tqdm/auto.py:21: TqdmWarning: IProgress not found. Please update jupyter and ipywidgets. See https://ipywidgets.readthedocs.io/en/stable/user_install.html\n",
      "  from .autonotebook import tqdm as notebook_tqdm\n",
      "/mnt/anaconda3/envs/one_map/lib/python3.9/site-packages/timm/models/layers/__init__.py:48: FutureWarning: Importing from timm.models.layers is deprecated, please import via timm.layers\n",
      "  warnings.warn(f\"Importing from {__name__} is deprecated, please import via timm.layers\", FutureWarning)\n"
     ]
    },
    {
     "name": "stdout",
     "output_type": "stream",
     "text": [
      "TensorRT not available, cannot use Jetson\n"
     ]
    },
    {
     "data": {
      "text/html": [
       "<pre style=\"white-space:pre;overflow-x:auto;line-height:normal;font-family:Menlo,'DejaVu Sans Mono',consolas,'Courier New',monospace\"><span style=\"color: #7fbfbf; text-decoration-color: #7fbfbf\">[05/11/25 15:54:49] </span><span style=\"color: #800000; text-decoration-color: #800000\">WARNING </span> Your inference package version <span style=\"color: #008080; text-decoration-color: #008080; font-weight: bold\">0.15</span>.<span style=\"color: #008080; text-decoration-color: #008080; font-weight: bold\">2</span> is out of date! Please upgrade to <a href=\"file:///mnt/anaconda3/envs/one_map/lib/python3.9/site-packages/inference/core/__init__.py\" target=\"_blank\"><span style=\"color: #7f7f7f; text-decoration-color: #7f7f7f\">__init__.py</span></a><span style=\"color: #7f7f7f; text-decoration-color: #7f7f7f\">:</span><a href=\"file:///mnt/anaconda3/envs/one_map/lib/python3.9/site-packages/inference/core/__init__.py#35\" target=\"_blank\"><span style=\"color: #7f7f7f; text-decoration-color: #7f7f7f\">35</span></a>\n",
       "<span style=\"color: #7fbfbf; text-decoration-color: #7fbfbf\">                    </span>         version <span style=\"color: #008080; text-decoration-color: #008080; font-weight: bold\">0.49</span>.<span style=\"color: #008080; text-decoration-color: #008080; font-weight: bold\">1</span> of inference for the latest features and bug fixes by    <span style=\"color: #7f7f7f; text-decoration-color: #7f7f7f\">              </span>\n",
       "<span style=\"color: #7fbfbf; text-decoration-color: #7fbfbf\">                    </span>         running `pip install --upgrade inference`.                              <span style=\"color: #7f7f7f; text-decoration-color: #7f7f7f\">              </span>\n",
       "</pre>\n"
      ],
      "text/plain": [
       "\u001b[2;36m[05/11/25 15:54:49]\u001b[0m\u001b[2;36m \u001b[0m\u001b[31mWARNING \u001b[0m Your inference package version \u001b[1;36m0.15\u001b[0m.\u001b[1;36m2\u001b[0m is out of date! Please upgrade to \u001b]8;id=291042;file:///mnt/anaconda3/envs/one_map/lib/python3.9/site-packages/inference/core/__init__.py\u001b\\\u001b[2m__init__.py\u001b[0m\u001b]8;;\u001b\\\u001b[2m:\u001b[0m\u001b]8;id=591568;file:///mnt/anaconda3/envs/one_map/lib/python3.9/site-packages/inference/core/__init__.py#35\u001b\\\u001b[2m35\u001b[0m\u001b]8;;\u001b\\\n",
       "\u001b[2;36m                    \u001b[0m         version \u001b[1;36m0.49\u001b[0m.\u001b[1;36m1\u001b[0m of inference for the latest features and bug fixes by    \u001b[2m              \u001b[0m\n",
       "\u001b[2;36m                    \u001b[0m         running `pip install --upgrade inference`.                              \u001b[2m              \u001b[0m\n"
      ]
     },
     "metadata": {},
     "output_type": "display_data"
    },
    {
     "name": "stderr",
     "output_type": "stream",
     "text": [
      "SupervisionWarnings: BoundingBoxAnnotator is deprecated: `BoundingBoxAnnotator` is deprecated and has been renamed to `BoxAnnotator`. `BoundingBoxAnnotator` will be removed in supervision-0.26.0.\n",
      "FutureWarning: Importing from timm.models.registry is deprecated, please import via timm.models\n",
      "UserWarning: Overwriting tiny_vit_5m_224 in registry with mobile_sam.modeling.tiny_vit_sam.tiny_vit_5m_224. This is because the name being registered conflicts with an existing name. Please check if this is not expected.\n",
      "UserWarning: Overwriting tiny_vit_11m_224 in registry with mobile_sam.modeling.tiny_vit_sam.tiny_vit_11m_224. This is because the name being registered conflicts with an existing name. Please check if this is not expected.\n",
      "UserWarning: Overwriting tiny_vit_21m_224 in registry with mobile_sam.modeling.tiny_vit_sam.tiny_vit_21m_224. This is because the name being registered conflicts with an existing name. Please check if this is not expected.\n",
      "UserWarning: Overwriting tiny_vit_21m_384 in registry with mobile_sam.modeling.tiny_vit_sam.tiny_vit_21m_384. This is because the name being registered conflicts with an existing name. Please check if this is not expected.\n",
      "UserWarning: Overwriting tiny_vit_21m_512 in registry with mobile_sam.modeling.tiny_vit_sam.tiny_vit_21m_512. This is because the name being registered conflicts with an existing name. Please check if this is not expected.\n"
     ]
    }
   ],
   "source": [
    "from eval.habitat_evaluator import HabitatEvaluator\n",
    "from config import load_eval_config\n",
    "from eval.actor import MONActor"
   ]
  },
  {
   "cell_type": "code",
   "execution_count": 4,
   "id": "9bfba8e9",
   "metadata": {},
   "outputs": [
    {
     "name": "stderr",
     "output_type": "stream",
     "text": [
      "usage: ipykernel_launcher.py [-c CONFIG [CONFIG ...]] [-h]\n",
      "                             [--EvalConf.multi_object]\n",
      "                             [--EvalConf.max_steps EVALCONF.MAX_STEPS]\n",
      "                             [--EvalConf.max_dist EVALCONF.MAX_DIST]\n",
      "                             [--EvalConf.log_rerun] [--EvalConf.is_gibson]\n",
      "                             [--EvalConf.controller EVALCONF.CONTROLLER]\n",
      "                             [--EvalConf.mapping EVALCONF.MAPPING]\n",
      "                             [--EvalConf.planner EVALCONF.PLANNER]\n",
      "                             [--EvalConf.object_nav_path EVALCONF.OBJECT_NAV_PATH]\n",
      "                             [--EvalConf.scene_path EVALCONF.SCENE_PATH]\n",
      "                             [--EvalConf.use_pointnav] [--EvalConf.square_im]\n",
      "                             [--EvalConf.saved_steps_dir EVALCONF.SAVED_STEPS_DIR]\n",
      "                             [--HabitatControllerConf.control_freq HABITATCONTROLLERCONF.CONTROL_FREQ]\n",
      "                             [--HabitatControllerConf.max_vel HABITATCONTROLLERCONF.MAX_VEL]\n",
      "                             [--HabitatControllerConf.max_ang_vel HABITATCONTROLLERCONF.MAX_ANG_VEL]\n",
      "                             [--PlanningConf.percentile_exploitation PLANNINGCONF.PERCENTILE_EXPLOITATION]\n",
      "                             [--PlanningConf.frontier_depth PLANNINGCONF.FRONTIER_DEPTH]\n",
      "                             [--PlanningConf.no_nav_radius PLANNINGCONF.NO_NAV_RADIUS]\n",
      "                             [--PlanningConf.yolo_confidence PLANNINGCONF.YOLO_CONFIDENCE]\n",
      "                             [--PlanningConf.filter_detections_depth]\n",
      "                             [--PlanningConf.consensus_filtering]\n",
      "                             [--PlanningConf.allow_replan]\n",
      "                             [--PlanningConf.use_frontiers]\n",
      "                             [--PlanningConf.allow_far_plan]\n",
      "                             [--PlanningConf.using_ov]\n",
      "                             [--PlanningConf.max_detect_distance PLANNINGCONF.MAX_DETECT_DISTANCE]\n",
      "                             [--PlanningConf.obstcl_kernel_size PLANNINGCONF.OBSTCL_KERNEL_SIZE]\n",
      "                             [--PlanningConf.min_goal_dist PLANNINGCONF.MIN_GOAL_DIST]\n",
      "                             [--MappingConf.n_points MAPPINGCONF.N_POINTS]\n",
      "                             [--MappingConf.size MAPPINGCONF.SIZE]\n",
      "                             [--MappingConf.agent_radius MAPPINGCONF.AGENT_RADIUS]\n",
      "                             [--MappingConf.blur_kernel_size MAPPINGCONF.BLUR_KERNEL_SIZE]\n",
      "                             [--MappingConf.obstacle_map_threshold MAPPINGCONF.OBSTACLE_MAP_THRESHOLD]\n",
      "                             [--MappingConf.fully_explored_threshold MAPPINGCONF.FULLY_EXPLORED_THRESHOLD]\n",
      "                             [--MappingConf.checked_map_threshold MAPPINGCONF.CHECKED_MAP_THRESHOLD]\n",
      "                             [--MappingConf.depth_factor MAPPINGCONF.DEPTH_FACTOR]\n",
      "                             [--MappingConf.gradient_factor MAPPINGCONF.GRADIENT_FACTOR]\n",
      "                             [--MappingConf.optimal_object_distance MAPPINGCONF.OPTIMAL_OBJECT_DISTANCE]\n",
      "                             [--MappingConf.optimal_object_factor MAPPINGCONF.OPTIMAL_OBJECT_FACTOR]\n",
      "                             [--MappingConf.obstacle_min MAPPINGCONF.OBSTACLE_MIN]\n",
      "                             [--MappingConf.obstacle_max MAPPINGCONF.OBSTACLE_MAX]\n",
      "                             [--MappingConf.filter_stairs]\n",
      "                             [--MappingConf.floor_level MAPPINGCONF.FLOOR_LEVEL]\n",
      "                             [--MappingConf.floor_threshold MAPPINGCONF.FLOOR_THRESHOLD]\n",
      "ipykernel_launcher.py: error: unrecognized arguments: --f=/run/user/1000/jupyter/runtime/kernel-v3c10547f90859741831b2f85633f599634827a327.json\n"
     ]
    },
    {
     "ename": "SystemExit",
     "evalue": "2",
     "output_type": "error",
     "traceback": [
      "An exception has occurred, use %tb to see the full traceback.\n",
      "\u001b[0;31mSystemExit\u001b[0m\u001b[0;31m:\u001b[0m 2\n"
     ]
    }
   ],
   "source": [
    "# Load the evaluation configuration\n",
    "eval_config = load_eval_config()\n",
    "\n",
    "# #TODO Changed: Printing Eval Config Args\n",
    "# print(eval_config)"
   ]
  },
  {
   "cell_type": "markdown",
   "id": "223532f3",
   "metadata": {},
   "source": [
    "### Static Eval : Prepare Embed Dict Directory"
   ]
  },
  {
   "cell_type": "code",
   "execution_count": 1,
   "id": "f0a48c7c",
   "metadata": {},
   "outputs": [],
   "source": [
    "import os\n",
    "import numpy as np\n",
    "import shutil"
   ]
  },
  {
   "cell_type": "code",
   "execution_count": null,
   "id": "9874e340",
   "metadata": {},
   "outputs": [
    {
     "name": "stdout",
     "output_type": "stream",
     "text": [
      "embed_dict_scene_Nfvxx8J5NCo.npz Nfvxx8J5NCo\n",
      "embed_dict_scene_5cdEh9F2hJL.npz 5cdEh9F2hJL\n",
      "embed_dict_scene_qyAac8rV8Zk.npz qyAac8rV8Zk\n",
      "embed_dict_scene_4ok3usBNeis.npz 4ok3usBNeis\n",
      "embed_dict_scene_ziup5kvtCCR.npz ziup5kvtCCR\n",
      "embed_dict_scene_XB4GS9ShBRE.npz XB4GS9ShBRE\n",
      "embed_dict_scene_mv2HUxq3B53.npz mv2HUxq3B53\n",
      "embed_dict_scene_svBbv1Pavdk.npz svBbv1Pavdk\n",
      "embed_dict_scene_DYehNKdT76V.npz DYehNKdT76V\n",
      "embed_dict_scene_mL8ThkuaVTM.npz mL8ThkuaVTM\n",
      "embed_dict_scene_Dd4bFSTQ8gi.npz Dd4bFSTQ8gi\n",
      "embed_dict_scene_cvZr5TUy5C5.npz cvZr5TUy5C5\n",
      "embed_dict_scene_wcojb4TFT35.npz wcojb4TFT35\n",
      "embed_dict_scene_p53SfW6mjZe.npz p53SfW6mjZe\n",
      "embed_dict_scene_zt1RVoi7PcG.npz zt1RVoi7PcG\n",
      "embed_dict_scene_6s7QHgap2fW.npz 6s7QHgap2fW\n",
      "embed_dict_scene_bxsVRursffK.npz bxsVRursffK\n",
      "embed_dict_scene_QaLdnwvtxbs.npz QaLdnwvtxbs\n"
     ]
    }
   ],
   "source": [
    "embed_dir = \"/mnt/vlfm_query_embed/embed_results/one_map/hm3d/grid_20/embed_dicts\"\n",
    "\n",
    "# for file in os.listdir(embed_dir):\n",
    "\n",
    "#     if not file.endswith(\".npz\"): continue\n",
    "\n",
    "#     scene_id = file.split(\"_\")[-1].split(\".\")[0]\n",
    "#     print(file, scene_id)\n",
    "\n",
    "#     scene_dir = os.path.join(embed_dir, scene_id) \n",
    "#     os.makedirs(scene_dir, exist_ok = True)\n",
    "\n",
    "#     source_file_path = os.path.join(embed_dir, file)\n",
    "#     dest_file_path = os.path.join(scene_dir, file)\n",
    "\n",
    "#     shutil.move(source_file_path, dest_file_path)"
   ]
  },
  {
   "cell_type": "code",
   "execution_count": null,
   "id": "4b495199",
   "metadata": {},
   "outputs": [],
   "source": []
  }
 ],
 "metadata": {
  "kernelspec": {
   "display_name": "one_map",
   "language": "python",
   "name": "python3"
  },
  "language_info": {
   "codemirror_mode": {
    "name": "ipython",
    "version": 3
   },
   "file_extension": ".py",
   "mimetype": "text/x-python",
   "name": "python",
   "nbconvert_exporter": "python",
   "pygments_lexer": "ipython3",
   "version": "3.9.19"
  }
 },
 "nbformat": 4,
 "nbformat_minor": 5
}

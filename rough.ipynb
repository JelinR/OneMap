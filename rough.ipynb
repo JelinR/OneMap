{
 "cells": [
  {
   "cell_type": "markdown",
   "id": "b03bceb7",
   "metadata": {},
   "source": [
    "### Checking Step Actions HM3D"
   ]
  },
  {
   "cell_type": "code",
   "execution_count": 7,
   "id": "4523ff45",
   "metadata": {},
   "outputs": [],
   "source": [
    "import os\n",
    "import json\n",
    "import numpy as np\n",
    "from tqdm import tqdm\n",
    "import sys"
   ]
  },
  {
   "cell_type": "code",
   "execution_count": 8,
   "id": "6a6acabc",
   "metadata": {},
   "outputs": [
    {
     "data": {
      "text/plain": [
       "['/mnt/vlfm_query_embed/habitat-lab/data',\n",
       " '/mnt/Datasets/HSSD/hssd-hab/objects',\n",
       " '/mnt/Datasets/HSSD/hssd-hab/objects/decomposed',\n",
       " '/mnt/Datasets/HSSD/hssd-hab',\n",
       " '/mnt/vlfm/vlfm_embed_local/SED',\n",
       " '/mnt/vlfm/vlfm_embed_habitat',\n",
       " '/mnt/OneMap',\n",
       " '/mnt/anaconda3/envs/vlfm_local_blip/lib/python39.zip',\n",
       " '/mnt/anaconda3/envs/vlfm_local_blip/lib/python3.9',\n",
       " '/mnt/anaconda3/envs/vlfm_local_blip/lib/python3.9/lib-dynload',\n",
       " '',\n",
       " '/mnt/anaconda3/envs/vlfm_local_blip/lib/python3.9/site-packages']"
      ]
     },
     "execution_count": 8,
     "metadata": {},
     "output_type": "execute_result"
    }
   ],
   "source": [
    "sys.path"
   ]
  },
  {
   "cell_type": "code",
   "execution_count": null,
   "id": "da20887b",
   "metadata": {},
   "outputs": [],
   "source": [
    "# def update_step_actions(root_dir = \"/mnt/vlfm_query_embed/embed_results/hm3d/grid_20/\",\n",
    "#                         save_dir = \"/mnt/vlfm_query_embed/embed_results/hm3d/grid_20/step_actions_upd\"):\n",
    "\n",
    "#     init_dir = os.path.join(root_dir, \"init_dicts\")\n",
    "#     steps_dir = os.path.join(root_dir, \"step_actions\")\n",
    "#     embed_dir = os.path.join(root_dir, \"embed_dicts\")\n",
    "\n",
    "#     os.makedirs(save_dir, exist_ok=True)\n",
    "#     print(f\"Created Directory for Saving Updated Step-Actions!\\n\")\n",
    "\n",
    "#     for steps_file in tqdm(os.listdir(steps_dir)):\n",
    "\n",
    "#         scene_id = steps_file.split(\"_\")[1]\n",
    "\n",
    "#         #Get Episode ID\n",
    "#         scene_embed_dir = os.path.join(embed_dir, f\"{scene_id}\")\n",
    "#         file_with_episode = [file for file in os.listdir(scene_embed_dir) if file.__contains__(\"_ep_\")]\n",
    "#         episode_id = file_with_episode[0].split(\"_\")[-1].split(\".\")[0]\n",
    "\n",
    "#         #Get Step Actions (with only steps, no meta info)\n",
    "#         steps_path = os.path.join(steps_dir, steps_file)\n",
    "#         steps = dict(np.load(steps_path, allow_pickle=True))\n",
    "\n",
    "#         print(f\"\\nSteps file: {steps_file}, Scene: {scene_id}, Episode: {episode_id}\")\n",
    "\n",
    "#         #Get initializing info\n",
    "#         init_path = os.path.join(init_dir, f\"init_dict_model_BLIP2_scene_{scene_id}.npz\")\n",
    "#         init_dict = dict(np.load(init_path, allow_pickle = True))\n",
    "#         init_pose = init_dict[\"init_pose\"].item()\n",
    "#         start_pos, start_rot = init_pose[\"init_pos_abs\"], init_pose[\"init_rot_abs\"]\n",
    "\n",
    "#         #print(start_pos, start_rot)\n",
    "\n",
    "#         #Update steps info\n",
    "#         steps[\"init_pos_abs\"] = start_pos\n",
    "#         steps[\"init_rot_abs\"] = start_rot\n",
    "#         steps[\"scene\"] = scene_id\n",
    "#         steps[\"episode\"] = episode_id\n",
    "\n",
    "\n",
    "#         #Save the updated step-actions\n",
    "#         save_path = os.path.join(save_dir, f\"step_actions_scene_{scene_id}_ep_{episode_id}.npz\")\n",
    "#         # np.savez(save_path, **steps)\n",
    "#         # print(\"Saved File!\")\n",
    "\n",
    "#         # break\n",
    "\n",
    "\n",
    "\n",
    "# update_step_actions()"
   ]
  },
  {
   "cell_type": "code",
   "execution_count": 5,
   "id": "5899474b",
   "metadata": {},
   "outputs": [
    {
     "data": {
      "text/plain": [
       "dict_keys(['map_shape', 'pixel_origin', 'pixels_per_meter', 'init_pose', 'floor'])"
      ]
     },
     "execution_count": 5,
     "metadata": {},
     "output_type": "execute_result"
    }
   ],
   "source": [
    "init_dir = \"/mnt/vlfm_query_embed/embed_results/hm3d/grid_20/init_dicts\"\n",
    "init_path = os.path.join(init_dir, 'init_dict_model_BLIP2_scene_cvZr5TUy5C5.npz')\n",
    "\n",
    "init_dict = dict(np.load(init_path, allow_pickle=True))\n",
    "init_dict.keys()"
   ]
  },
  {
   "cell_type": "code",
   "execution_count": 16,
   "id": "73bda6ac",
   "metadata": {},
   "outputs": [
    {
     "data": {
      "text/plain": [
       "{'init_pos_abs': [-3.33989, 0.07216, 2.86076],\n",
       " 'init_rot_abs': [0, 0.118, 0, 0.99301]}"
      ]
     },
     "execution_count": 16,
     "metadata": {},
     "output_type": "execute_result"
    }
   ],
   "source": [
    "init_dict[\"init_pose\"].item()"
   ]
  },
  {
   "cell_type": "code",
   "execution_count": null,
   "id": "becc25c9",
   "metadata": {},
   "outputs": [],
   "source": [
    "steps_dir = \"/mnt/vlfm_query_embed/embed_results/hm3d/grid_20/step_actions\"\n",
    "steps_file = os.path.join(steps_dir, 'scene_cvZr5TUy5C5_step_actions.npz')\n",
    "\n",
    "step_actions = dict(np.load(steps_file, allow_pickle=True))\n",
    "step_actions"
   ]
  },
  {
   "cell_type": "code",
   "execution_count": 6,
   "id": "5bdddc26",
   "metadata": {},
   "outputs": [
    {
     "name": "stdout",
     "output_type": "stream",
     "text": [
      "394\n",
      "348\n",
      "634\n",
      "503\n",
      "222\n",
      "159\n",
      "782\n",
      "176\n",
      "359\n",
      "97\n",
      "573\n",
      "466\n",
      "257\n",
      "230\n",
      "208\n",
      "218\n",
      "389\n",
      "348\n",
      "555\n",
      "304\n"
     ]
    }
   ],
   "source": [
    "steps_dir = \"/mnt/vlfm_query_embed/embed_results/hm3d/grid_20/step_actions\"\n",
    "\n",
    "for file in os.listdir(steps_dir):\n",
    "\n",
    "    steps_file = os.path.join(steps_dir, file)\n",
    "    step_actions = dict(np.load(steps_file, allow_pickle=True))\n",
    "\n",
    "    step_actions = {int(k): v for k, v in step_actions.items()}\n",
    "\n",
    "    keys = list(step_actions.keys())\n",
    "    print(max(keys))\n",
    "\n",
    "    max_steps = max(keys)\n",
    "    if max_steps >= 1000: print(file)\n",
    "\n",
    "    #if file.__contains__(\"cvZr5TUy5C5\"): break\n",
    "\n",
    "#step_actions"
   ]
  },
  {
   "cell_type": "code",
   "execution_count": 5,
   "id": "828ac7ea",
   "metadata": {},
   "outputs": [
    {
     "data": {
      "text/plain": [
       "{'0': array([[2]]),\n",
       " '1': array([[2]]),\n",
       " '2': array([[2]]),\n",
       " '3': array([[2]]),\n",
       " '4': array([[2]]),\n",
       " '5': array([[2]]),\n",
       " '6': array([[2]]),\n",
       " '7': array([[2]]),\n",
       " '8': array([[2]]),\n",
       " '9': array([[2]]),\n",
       " '10': array([[2]]),\n",
       " '11': array([[2]]),\n",
       " '12': array([[2]]),\n",
       " '13': array([[1]]),\n",
       " '14': array([[1]]),\n",
       " '15': array([[1]]),\n",
       " '16': array([[1]]),\n",
       " '17': array([[1]]),\n",
       " '18': array([[1]]),\n",
       " '19': array([[1]]),\n",
       " '20': array([[3]]),\n",
       " '21': array([[3]]),\n",
       " '22': array([[1]]),\n",
       " '23': array([[1]]),\n",
       " '24': array([[1]]),\n",
       " '25': array([[1]]),\n",
       " '26': array([[2]]),\n",
       " '27': array([[1]]),\n",
       " '28': array([[1]]),\n",
       " '29': array([[1]]),\n",
       " '30': array([[3]]),\n",
       " '31': array([[1]]),\n",
       " '32': array([[1]]),\n",
       " '33': array([[1]]),\n",
       " '34': array([[1]]),\n",
       " '35': array([[1]]),\n",
       " '36': array([[1]]),\n",
       " '37': array([[2]]),\n",
       " '38': array([[2]]),\n",
       " '39': array([[1]]),\n",
       " '40': array([[1]]),\n",
       " '41': array([[1]]),\n",
       " '42': array([[1]]),\n",
       " '43': array([[1]]),\n",
       " '44': array([[1]]),\n",
       " '45': array([[2]]),\n",
       " '46': array([[2]]),\n",
       " '47': array([[2]]),\n",
       " '48': array([[2]]),\n",
       " '49': array([[3]]),\n",
       " '50': array([[3]]),\n",
       " '51': array([[3]]),\n",
       " '52': array([[1]]),\n",
       " '53': array([[1]]),\n",
       " '54': array([[1]]),\n",
       " '55': array([[2]]),\n",
       " '56': array([[2]]),\n",
       " '57': array([[2]]),\n",
       " '58': array([[2]]),\n",
       " '59': array([[2]]),\n",
       " '60': array([[2]]),\n",
       " '61': array([[2]]),\n",
       " '62': array([[2]]),\n",
       " '63': array([[3]]),\n",
       " '64': array([[3]]),\n",
       " '65': array([[1]]),\n",
       " '66': array([[1]]),\n",
       " '67': array([[1]]),\n",
       " '68': array([[1]]),\n",
       " '69': array([[1]]),\n",
       " '70': array([[1]]),\n",
       " '71': array([[1]]),\n",
       " '72': array([[1]]),\n",
       " '73': array([[1]]),\n",
       " '74': array([[2]]),\n",
       " '75': array([[2]]),\n",
       " '76': array([[2]]),\n",
       " '77': array([[3]]),\n",
       " '78': array([[3]]),\n",
       " '79': array([[1]]),\n",
       " '80': array([[1]]),\n",
       " '81': array([[1]]),\n",
       " '82': array([[2]]),\n",
       " '83': array([[2]]),\n",
       " '84': array([[2]]),\n",
       " '85': array([[3]]),\n",
       " '86': array([[3]]),\n",
       " '87': array([[3]]),\n",
       " '88': array([[1]]),\n",
       " '89': array([[1]]),\n",
       " '90': array([[1]]),\n",
       " '91': array([[1]]),\n",
       " '92': array([[1]]),\n",
       " '93': array([[1]]),\n",
       " '94': array([[1]]),\n",
       " '95': array([[1]]),\n",
       " '96': array([[1]]),\n",
       " '97': array([[1]]),\n",
       " '98': array([[1]]),\n",
       " '99': array([[2]]),\n",
       " '100': array([[1]]),\n",
       " '101': array([[1]]),\n",
       " '102': array([[2]]),\n",
       " '103': array([[1]]),\n",
       " '104': array([[1]]),\n",
       " '105': array([[1]]),\n",
       " '106': array([[1]]),\n",
       " '107': array([[1]]),\n",
       " '108': array([[1]]),\n",
       " '109': array([[1]]),\n",
       " '110': array([[1]]),\n",
       " '111': array([[1]]),\n",
       " '112': array([[3]]),\n",
       " '113': array([[3]]),\n",
       " '114': array([[3]]),\n",
       " '115': array([[3]]),\n",
       " '116': array([[3]]),\n",
       " '117': array([[3]]),\n",
       " '118': array([[3]]),\n",
       " '119': array([[3]]),\n",
       " '120': array([[3]]),\n",
       " '121': array([[3]]),\n",
       " '122': array([[2]]),\n",
       " '123': array([[2]]),\n",
       " '124': array([[2]]),\n",
       " '125': array([[2]]),\n",
       " '126': array([[1]]),\n",
       " '127': array([[1]]),\n",
       " '128': array([[1]]),\n",
       " '129': array([[1]]),\n",
       " '130': array([[1]]),\n",
       " '131': array([[2]]),\n",
       " '132': array([[1]]),\n",
       " '133': array([[1]]),\n",
       " '134': array([[2]]),\n",
       " '135': array([[1]]),\n",
       " '136': array([[1]]),\n",
       " '137': array([[1]]),\n",
       " '138': array([[3]]),\n",
       " '139': array([[1]]),\n",
       " '140': array([[1]]),\n",
       " '141': array([[1]]),\n",
       " '142': array([[1]]),\n",
       " '143': array([[1]]),\n",
       " '144': array([[3]]),\n",
       " '145': array([[1]]),\n",
       " '146': array([[3]]),\n",
       " '147': array([[1]]),\n",
       " '148': array([[2]]),\n",
       " '149': array([[2]]),\n",
       " '150': array([[2]]),\n",
       " '151': array([[1]]),\n",
       " '152': array([[1]]),\n",
       " '153': array([[1]]),\n",
       " '154': array([[3]]),\n",
       " '155': array([[1]]),\n",
       " '156': array([[1]]),\n",
       " '157': array([[2]]),\n",
       " '158': array([[2]]),\n",
       " '159': array([[2]]),\n",
       " '160': array([[2]]),\n",
       " '161': array([[2]]),\n",
       " '162': array([[2]]),\n",
       " '163': array([[2]]),\n",
       " '164': array([[3]]),\n",
       " '165': array([[1]]),\n",
       " '166': array([[1]]),\n",
       " '167': array([[1]]),\n",
       " '168': array([[2]]),\n",
       " '169': array([[2]]),\n",
       " '170': array([[1]]),\n",
       " '171': array([[1]]),\n",
       " '172': array([[3]]),\n",
       " '173': array([[1]]),\n",
       " '174': array([[1]]),\n",
       " '175': array([[3]]),\n",
       " '176': array([[1]]),\n",
       " '177': array([[1]]),\n",
       " '178': array([[2]]),\n",
       " '179': array([[2]]),\n",
       " '180': array([[2]]),\n",
       " '181': array([[1]]),\n",
       " '182': array([[1]]),\n",
       " '183': array([[1]]),\n",
       " '184': array([[3]]),\n",
       " '185': array([[1]]),\n",
       " '186': array([[1]]),\n",
       " '187': array([[3]]),\n",
       " '188': array([[3]]),\n",
       " '189': array([[2]]),\n",
       " '190': array([[2]]),\n",
       " '191': array([[2]]),\n",
       " '192': array([[2]]),\n",
       " '193': array([[2]]),\n",
       " '194': array([[1]]),\n",
       " '195': array([[1]]),\n",
       " '196': array([[3]]),\n",
       " '197': array([[1]]),\n",
       " '198': array([[3]]),\n",
       " '199': array([[1]]),\n",
       " '200': array([[1]]),\n",
       " '201': array([[1]]),\n",
       " '202': array([[1]]),\n",
       " '203': array([[1]]),\n",
       " '204': array([[2]]),\n",
       " '205': array([[2]]),\n",
       " '206': array([[2]]),\n",
       " '207': array([[2]]),\n",
       " '208': array([[0]]),\n",
       " 'init_pos_abs': array([ 8.30578,  2.06447, -0.95382]),\n",
       " 'init_rot_abs': array([0.     , 0.99195, 0.     , 0.12663]),\n",
       " 'scene': array('4ok3usBNeis', dtype='<U11'),\n",
       " 'episode': array('57', dtype='<U2')}"
      ]
     },
     "execution_count": 5,
     "metadata": {},
     "output_type": "execute_result"
    }
   ],
   "source": [
    "steps_dir = \"/mnt/vlfm_query_embed/embed_results/hm3d/grid_20/step_actions_upd\"\n",
    "steps_file = os.path.join(steps_dir, 'step_actions_scene_4ok3usBNeis_ep_57.npz')\n",
    "\n",
    "step_actions = dict(np.load(steps_file, allow_pickle=True))\n",
    "step_actions"
   ]
  },
  {
   "cell_type": "code",
   "execution_count": 40,
   "id": "6ddef794",
   "metadata": {},
   "outputs": [
    {
     "data": {
      "text/plain": [
       "numpy.int64"
      ]
     },
     "execution_count": 40,
     "metadata": {},
     "output_type": "execute_result"
    }
   ],
   "source": [
    "type(step_actions[\"0\"][0][0])"
   ]
  },
  {
   "cell_type": "markdown",
   "id": "522e516c",
   "metadata": {},
   "source": [
    "### Checking Step Actions for HSSD in OneMap"
   ]
  },
  {
   "cell_type": "code",
   "execution_count": 13,
   "id": "65a397a3",
   "metadata": {},
   "outputs": [],
   "source": [
    "import os"
   ]
  },
  {
   "cell_type": "code",
   "execution_count": 12,
   "id": "89de7e22",
   "metadata": {},
   "outputs": [
    {
     "data": {
      "text/plain": [
       "['step_actions_scene_104348361_171513414_ep_20.npz',\n",
       " 'step_actions_scene_103997895_171031182_ep_20.npz',\n",
       " 'step_actions_scene_106878960_174887073_ep_20.npz',\n",
       " 'step_actions_scene_102817140_ep_20.npz',\n",
       " 'step_actions_scene_102816036_ep_20.npz',\n",
       " 'step_actions_scene_102344094_ep_20.npz',\n",
       " 'step_actions_scene_106366386_174226770_ep_20.npz',\n",
       " 'step_actions_scene_107733960_175999701_ep_6.npz',\n",
       " 'step_actions_scene_106366104_174226332_ep_20.npz',\n",
       " 'step_actions_scene_108736884_177263634_ep_20.npz',\n",
       " 'step_actions_scene_106366410_174226806_ep_20.npz',\n",
       " 'step_actions_scene_107734254_176000121_ep_20.npz',\n",
       " 'step_actions_scene_106879080_174887211_ep_20.npz',\n",
       " 'step_actions_scene_108736779_177263484_ep_6.npz',\n",
       " 'step_actions_scene_108736800_177263517_ep_20.npz',\n",
       " 'step_actions_scene_107734176_176000019_ep_20.npz',\n",
       " 'step_actions_scene_105515211_173104185_ep_20.npz']"
      ]
     },
     "execution_count": 12,
     "metadata": {},
     "output_type": "execute_result"
    }
   ],
   "source": [
    "hssd_steps_dir = \"saved_steps/hssd\"\n",
    "\n",
    "os.listdir(hssd_steps_dir)"
   ]
  },
  {
   "cell_type": "markdown",
   "id": "7da34405",
   "metadata": {},
   "source": [
    "### Checking OneMap Saved Feature Map"
   ]
  },
  {
   "cell_type": "code",
   "execution_count": 14,
   "id": "cc927d61",
   "metadata": {},
   "outputs": [],
   "source": [
    "import os\n",
    "import numpy as np\n",
    "import matplotlib.pyplot as plt"
   ]
  },
  {
   "cell_type": "code",
   "execution_count": 18,
   "id": "034105d6",
   "metadata": {},
   "outputs": [
    {
     "data": {
      "text/plain": [
       "'results/hssd/embed_dicts/embed_dict_scene_102344094.npz'"
      ]
     },
     "execution_count": 18,
     "metadata": {},
     "output_type": "execute_result"
    }
   ],
   "source": [
    "embed_dir = \"results/hssd/embed_dicts\"\n",
    "\n",
    "embed_path = os.path.join(embed_dir, os.listdir(embed_dir)[0])\n",
    "embed_path"
   ]
  },
  {
   "cell_type": "code",
   "execution_count": 19,
   "id": "a6773fd6",
   "metadata": {},
   "outputs": [
    {
     "data": {
      "text/plain": [
       "dict_keys(['arr'])"
      ]
     },
     "execution_count": 19,
     "metadata": {},
     "output_type": "execute_result"
    }
   ],
   "source": [
    "embed_dict = dict(np.load(embed_path, allow_pickle=True))\n",
    "\n",
    "embed_dict.keys()"
   ]
  },
  {
   "cell_type": "code",
   "execution_count": 20,
   "id": "c3435580",
   "metadata": {},
   "outputs": [
    {
     "name": "stdout",
     "output_type": "stream",
     "text": [
      "Shape of Feature Map: (600, 600, 768)\n"
     ]
    },
    {
     "data": {
      "text/plain": [
       "<matplotlib.image.AxesImage at 0x7f40db67cbb0>"
      ]
     },
     "execution_count": 20,
     "metadata": {},
     "output_type": "execute_result"
    },
    {
     "data": {
      "image/png": "[encoded data removed]",
      "text/plain": [
       "<Figure size 640x480 with 1 Axes>"
      ]
     },
     "metadata": {},
     "output_type": "display_data"
    }
   ],
   "source": [
    "print(f\"Shape of Feature Map: {embed_dict['arr'].shape}\")\n",
    "\n",
    "flat_map = embed_dict[\"arr\"].sum(axis = 2)\n",
    "flat_map[flat_map != 0] = 1\n",
    "plt.imshow(flat_map)"
   ]
  },
  {
   "cell_type": "markdown",
   "id": "fb2325ea",
   "metadata": {},
   "source": [
    "### Debugging Habitat Sim Scene Loading"
   ]
  },
  {
   "cell_type": "code",
   "execution_count": 1,
   "id": "52d59db5",
   "metadata": {},
   "outputs": [
    {
     "name": "stderr",
     "output_type": "stream",
     "text": [
      "/mnt/anaconda3/envs/one_map/lib/python3.9/site-packages/tqdm/auto.py:21: TqdmWarning: IProgress not found. Please update jupyter and ipywidgets. See https://ipywidgets.readthedocs.io/en/stable/user_install.html\n",
      "  from .autonotebook import tqdm as notebook_tqdm\n",
      "/mnt/anaconda3/envs/one_map/lib/python3.9/site-packages/timm/models/layers/__init__.py:48: FutureWarning: Importing from timm.models.layers is deprecated, please import via timm.layers\n",
      "  warnings.warn(f\"Importing from {__name__} is deprecated, please import via timm.layers\", FutureWarning)\n"
     ]
    },
    {
     "name": "stdout",
     "output_type": "stream",
     "text": [
      "TensorRT not available, cannot use Jetson\n"
     ]
    },
    {
     "data": {
      "text/html": [
       "<pre style=\"white-space:pre;overflow-x:auto;line-height:normal;font-family:Menlo,'DejaVu Sans Mono',consolas,'Courier New',monospace\"><span style=\"color: #7fbfbf; text-decoration-color: #7fbfbf\">[05/11/25 15:54:49] </span><span style=\"color: #800000; text-decoration-color: #800000\">WARNING </span> Your inference package version <span style=\"color: #008080; text-decoration-color: #008080; font-weight: bold\">0.15</span>.<span style=\"color: #008080; text-decoration-color: #008080; font-weight: bold\">2</span> is out of date! Please upgrade to <a href=\"file:///mnt/anaconda3/envs/one_map/lib/python3.9/site-packages/inference/core/__init__.py\" target=\"_blank\"><span style=\"color: #7f7f7f; text-decoration-color: #7f7f7f\">__init__.py</span></a><span style=\"color: #7f7f7f; text-decoration-color: #7f7f7f\">:</span><a href=\"file:///mnt/anaconda3/envs/one_map/lib/python3.9/site-packages/inference/core/__init__.py#35\" target=\"_blank\"><span style=\"color: #7f7f7f; text-decoration-color: #7f7f7f\">35</span></a>\n",
       "<span style=\"color: #7fbfbf; text-decoration-color: #7fbfbf\">                    </span>         version <span style=\"color: #008080; text-decoration-color: #008080; font-weight: bold\">0.49</span>.<span style=\"color: #008080; text-decoration-color: #008080; font-weight: bold\">1</span> of inference for the latest features and bug fixes by    <span style=\"color: #7f7f7f; text-decoration-color: #7f7f7f\">              </span>\n",
       "<span style=\"color: #7fbfbf; text-decoration-color: #7fbfbf\">                    </span>         running `pip install --upgrade inference`.                              <span style=\"color: #7f7f7f; text-decoration-color: #7f7f7f\">              </span>\n",
       "</pre>\n"
      ],
      "text/plain": [
       "\u001b[2;36m[05/11/25 15:54:49]\u001b[0m\u001b[2;36m \u001b[0m\u001b[31mWARNING \u001b[0m Your inference package version \u001b[1;36m0.15\u001b[0m.\u001b[1;36m2\u001b[0m is out of date! Please upgrade to \u001b]8;id=291042;file:///mnt/anaconda3/envs/one_map/lib/python3.9/site-packages/inference/core/__init__.py\u001b\\\u001b[2m__init__.py\u001b[0m\u001b]8;;\u001b\\\u001b[2m:\u001b[0m\u001b]8;id=591568;file:///mnt/anaconda3/envs/one_map/lib/python3.9/site-packages/inference/core/__init__.py#35\u001b\\\u001b[2m35\u001b[0m\u001b]8;;\u001b\\\n",
       "\u001b[2;36m                    \u001b[0m         version \u001b[1;36m0.49\u001b[0m.\u001b[1;36m1\u001b[0m of inference for the latest features and bug fixes by    \u001b[2m              \u001b[0m\n",
       "\u001b[2;36m                    \u001b[0m         running `pip install --upgrade inference`.                              \u001b[2m              \u001b[0m\n"
      ]
     },
     "metadata": {},
     "output_type": "display_data"
    },
    {
     "name": "stderr",
     "output_type": "stream",
     "text": [
      "SupervisionWarnings: BoundingBoxAnnotator is deprecated: `BoundingBoxAnnotator` is deprecated and has been renamed to `BoxAnnotator`. `BoundingBoxAnnotator` will be removed in supervision-0.26.0.\n",
      "FutureWarning: Importing from timm.models.registry is deprecated, please import via timm.models\n",
      "UserWarning: Overwriting tiny_vit_5m_224 in registry with mobile_sam.modeling.tiny_vit_sam.tiny_vit_5m_224. This is because the name being registered conflicts with an existing name. Please check if this is not expected.\n",
      "UserWarning: Overwriting tiny_vit_11m_224 in registry with mobile_sam.modeling.tiny_vit_sam.tiny_vit_11m_224. This is because the name being registered conflicts with an existing name. Please check if this is not expected.\n",
      "UserWarning: Overwriting tiny_vit_21m_224 in registry with mobile_sam.modeling.tiny_vit_sam.tiny_vit_21m_224. This is because the name being registered conflicts with an existing name. Please check if this is not expected.\n",
      "UserWarning: Overwriting tiny_vit_21m_384 in registry with mobile_sam.modeling.tiny_vit_sam.tiny_vit_21m_384. This is because the name being registered conflicts with an existing name. Please check if this is not expected.\n",
      "UserWarning: Overwriting tiny_vit_21m_512 in registry with mobile_sam.modeling.tiny_vit_sam.tiny_vit_21m_512. This is because the name being registered conflicts with an existing name. Please check if this is not expected.\n"
     ]
    }
   ],
   "source": [
    "from eval.habitat_evaluator import HabitatEvaluator\n",
    "from config import load_eval_config\n",
    "from eval.actor import MONActor"
   ]
  },
  {
   "cell_type": "code",
   "execution_count": 4,
   "id": "9bfba8e9",
   "metadata": {},
   "outputs": [
    {
     "name": "stderr",
     "output_type": "stream",
     "text": [
      "usage: ipykernel_launcher.py [-c CONFIG [CONFIG ...]] [-h]\n",
      "                             [--EvalConf.multi_object]\n",
      "                             [--EvalConf.max_steps EVALCONF.MAX_STEPS]\n",
      "                             [--EvalConf.max_dist EVALCONF.MAX_DIST]\n",
      "                             [--EvalConf.log_rerun] [--EvalConf.is_gibson]\n",
      "                             [--EvalConf.controller EVALCONF.CONTROLLER]\n",
      "                             [--EvalConf.mapping EVALCONF.MAPPING]\n",
      "                             [--EvalConf.planner EVALCONF.PLANNER]\n",
      "                             [--EvalConf.object_nav_path EVALCONF.OBJECT_NAV_PATH]\n",
      "                             [--EvalConf.scene_path EVALCONF.SCENE_PATH]\n",
      "                             [--EvalConf.use_pointnav] [--EvalConf.square_im]\n",
      "                             [--EvalConf.saved_steps_dir EVALCONF.SAVED_STEPS_DIR]\n",
      "                             [--HabitatControllerConf.control_freq HABITATCONTROLLERCONF.CONTROL_FREQ]\n",
      "                             [--HabitatControllerConf.max_vel HABITATCONTROLLERCONF.MAX_VEL]\n",
      "                             [--HabitatControllerConf.max_ang_vel HABITATCONTROLLERCONF.MAX_ANG_VEL]\n",
      "                             [--PlanningConf.percentile_exploitation PLANNINGCONF.PERCENTILE_EXPLOITATION]\n",
      "                             [--PlanningConf.frontier_depth PLANNINGCONF.FRONTIER_DEPTH]\n",
      "                             [--PlanningConf.no_nav_radius PLANNINGCONF.NO_NAV_RADIUS]\n",
      "                             [--PlanningConf.yolo_confidence PLANNINGCONF.YOLO_CONFIDENCE]\n",
      "                             [--PlanningConf.filter_detections_depth]\n",
      "                             [--PlanningConf.consensus_filtering]\n",
      "                             [--PlanningConf.allow_replan]\n",
      "                             [--PlanningConf.use_frontiers]\n",
      "                             [--PlanningConf.allow_far_plan]\n",
      "                             [--PlanningConf.using_ov]\n",
      "                             [--PlanningConf.max_detect_distance PLANNINGCONF.MAX_DETECT_DISTANCE]\n",
      "                             [--PlanningConf.obstcl_kernel_size PLANNINGCONF.OBSTCL_KERNEL_SIZE]\n",
      "                             [--PlanningConf.min_goal_dist PLANNINGCONF.MIN_GOAL_DIST]\n",
      "                             [--MappingConf.n_points MAPPINGCONF.N_POINTS]\n",
      "                             [--MappingConf.size MAPPINGCONF.SIZE]\n",
      "                             [--MappingConf.agent_radius MAPPINGCONF.AGENT_RADIUS]\n",
      "                             [--MappingConf.blur_kernel_size MAPPINGCONF.BLUR_KERNEL_SIZE]\n",
      "                             [--MappingConf.obstacle_map_threshold MAPPINGCONF.OBSTACLE_MAP_THRESHOLD]\n",
      "                             [--MappingConf.fully_explored_threshold MAPPINGCONF.FULLY_EXPLORED_THRESHOLD]\n",
      "                             [--MappingConf.checked_map_threshold MAPPINGCONF.CHECKED_MAP_THRESHOLD]\n",
      "                             [--MappingConf.depth_factor MAPPINGCONF.DEPTH_FACTOR]\n",
      "                             [--MappingConf.gradient_factor MAPPINGCONF.GRADIENT_FACTOR]\n",
      "                             [--MappingConf.optimal_object_distance MAPPINGCONF.OPTIMAL_OBJECT_DISTANCE]\n",
      "                             [--MappingConf.optimal_object_factor MAPPINGCONF.OPTIMAL_OBJECT_FACTOR]\n",
      "                             [--MappingConf.obstacle_min MAPPINGCONF.OBSTACLE_MIN]\n",
      "                             [--MappingConf.obstacle_max MAPPINGCONF.OBSTACLE_MAX]\n",
      "                             [--MappingConf.filter_stairs]\n",
      "                             [--MappingConf.floor_level MAPPINGCONF.FLOOR_LEVEL]\n",
      "                             [--MappingConf.floor_threshold MAPPINGCONF.FLOOR_THRESHOLD]\n",
      "ipykernel_launcher.py: error: unrecognized arguments: --f=/run/user/1000/jupyter/runtime/kernel-v3c10547f90859741831b2f85633f599634827a327.json\n"
     ]
    },
    {
     "ename": "SystemExit",
     "evalue": "2",
     "output_type": "error",
     "traceback": [
      "An exception has occurred, use %tb to see the full traceback.\n",
      "\u001b[0;31mSystemExit\u001b[0m\u001b[0;31m:\u001b[0m 2\n"
     ]
    }
   ],
   "source": [
    "# Load the evaluation configuration\n",
    "eval_config = load_eval_config()\n",
    "\n",
    "# #TODO Changed: Printing Eval Config Args\n",
    "# print(eval_config)"
   ]
  },
  {
   "cell_type": "markdown",
   "id": "223532f3",
   "metadata": {},
   "source": [
    "### Static Eval : Prepare Embed Dict Directory"
   ]
  },
  {
   "cell_type": "code",
   "execution_count": 30,
   "id": "f0a48c7c",
   "metadata": {},
   "outputs": [],
   "source": [
    "import os\n",
    "import numpy as np\n",
    "import shutil"
   ]
  },
  {
   "cell_type": "code",
   "execution_count": 31,
   "id": "9874e340",
   "metadata": {},
   "outputs": [
    {
     "name": "stdout",
     "output_type": "stream",
     "text": [
      "embed_dict_scene_107734176_176000019.npz 107734176_176000019\n",
      "embed_dict_scene_106366104_174226332.npz 106366104_174226332\n",
      "embed_dict_scene_102817140.npz 102817140\n",
      "embed_dict_scene_106366386_174226770.npz 106366386_174226770\n",
      "embed_dict_scene_105515211_173104185.npz 105515211_173104185\n",
      "embed_dict_scene_103997895_171031182.npz 103997895_171031182\n",
      "embed_dict_scene_102344094.npz 102344094\n",
      "embed_dict_scene_106879080_174887211.npz 106879080_174887211\n",
      "embed_dict_scene_104348361_171513414.npz 104348361_171513414\n",
      "embed_dict_scene_107733960_175999701.npz 107733960_175999701\n",
      "embed_dict_scene_108736884_177263634.npz 108736884_177263634\n",
      "embed_dict_scene_108736779_177263484.npz 108736779_177263484\n",
      "embed_dict_scene_107734254_176000121.npz 107734254_176000121\n",
      "embed_dict_scene_102816036.npz 102816036\n",
      "embed_dict_scene_106366410_174226806.npz 106366410_174226806\n",
      "embed_dict_scene_108736800_177263517.npz 108736800_177263517\n",
      "embed_dict_scene_106878960_174887073.npz 106878960_174887073\n"
     ]
    }
   ],
   "source": [
    "embed_dir = \"/mnt/vlfm_query_embed/embed_results/one_map/hssd/grid_10/embed_dicts\"\n",
    "\n",
    "for file in os.listdir(embed_dir):\n",
    "\n",
    "    if not file.endswith(\".npz\"): continue\n",
    "\n",
    "    scene_id = file.split(\"scene_\")[-1].split(\".\")[0]\n",
    "    print(file, scene_id)\n",
    "\n",
    "    scene_dir = os.path.join(embed_dir, scene_id) \n",
    "    os.makedirs(scene_dir, exist_ok = True)\n",
    "\n",
    "    source_file_path = os.path.join(embed_dir, file)\n",
    "    dest_file_path = os.path.join(scene_dir, file)\n",
    "\n",
    "    shutil.move(source_file_path, dest_file_path)"
   ]
  },
  {
   "cell_type": "markdown",
   "id": "ba92f4df",
   "metadata": {},
   "source": [
    "### Static Eval: Prepare Init Dict for OneMap"
   ]
  },
  {
   "cell_type": "code",
   "execution_count": 15,
   "id": "698b93fd",
   "metadata": {},
   "outputs": [],
   "source": [
    "import os\n",
    "import numpy as np\n",
    "from tqdm import tqdm"
   ]
  },
  {
   "cell_type": "code",
   "execution_count": 32,
   "id": "439ff872",
   "metadata": {},
   "outputs": [
    {
     "name": "stderr",
     "output_type": "stream",
     "text": [
      "  0%|          | 0/34 [00:00<?, ?it/s]\n"
     ]
    }
   ],
   "source": [
    "init_path = \"/mnt/vlfm_query_embed/embed_results/hssd/grid_4/init_dicts\"\n",
    "dest_init_path = \"/mnt/vlfm_query_embed/embed_results/one_map/hssd/grid_10/init_dicts\"\n",
    "os.makedirs(dest_init_path, exist_ok=True)\n",
    "\n",
    "for file in tqdm(os.listdir(init_path)):\n",
    "\n",
    "    source_file_path = os.path.join(init_path, file)\n",
    "    scene_id = file.split(\"scene_\")[-1].split(\".\")[0]\n",
    "    # print(f\"\\nScene: {scene_id}\")\n",
    "\n",
    "    init_dict = dict(np.load(source_file_path, allow_pickle=True))\n",
    "    # print(init_dict)\n",
    "\n",
    "    new_init_dict = {}\n",
    "    new_init_dict[\"grid_cell_size\"] = np.array(0.1)\n",
    "    new_init_dict[\"map_shape\"] = np.array([600, 600])\n",
    "    new_init_dict[\"pixel_origin\"] = np.array([300, 300])\n",
    "    new_init_dict[\"init_pose\"] = init_dict[\"init_pose\"]\n",
    "    # new_init_dict[\"scene\"] = str(init_dict[\"scene\"])\n",
    "    new_init_dict[\"episode\"] = int(init_dict[\"episode\"])\n",
    "    # new_init_dict[\"floor\"] = init_dict[\"floor\"]\n",
    "\n",
    "    dest_file_path = os.path.join(dest_init_path, file)\n",
    "    # print(dest_file_path)\n",
    "    # np.savez(dest_file_path, **new_init_dict)\n",
    "\n",
    "    break"
   ]
  },
  {
   "cell_type": "code",
   "execution_count": 33,
   "id": "6521ec1a",
   "metadata": {},
   "outputs": [
    {
     "data": {
      "text/plain": [
       "{'grid_cell_size': array(2.),\n",
       " 'map_shape': array([1000, 1000]),\n",
       " 'pixel_origin': array([500, 500]),\n",
       " 'pixels_per_meter': array(10),\n",
       " 'init_pose': array({'init_pos_abs': [-5.73745, 0.19066, 4.17284], 'init_rot_abs': [0, 0.17185, 0, -0.98512]},\n",
       "       dtype=object),\n",
       " 'scene': array('102817140', dtype='<U9'),\n",
       " 'episode': array('20', dtype='<U2')}"
      ]
     },
     "execution_count": 33,
     "metadata": {},
     "output_type": "execute_result"
    }
   ],
   "source": [
    "init_dict"
   ]
  },
  {
   "cell_type": "code",
   "execution_count": null,
   "id": "156cc3a9",
   "metadata": {},
   "outputs": [],
   "source": [
    "106366386_174226770"
   ]
  },
  {
   "cell_type": "code",
   "execution_count": 38,
   "id": "22485b0d",
   "metadata": {},
   "outputs": [
    {
     "data": {
      "text/plain": [
       "{'init_pos_abs': array([-14.57473,   0.18403,  -6.87051]),\n",
       " 'init_rot_abs': array([0.     , 0.42004, 0.     , 0.90751]),\n",
       " 'scene': array('106366386_174226770', dtype='<U19'),\n",
       " 'episode': array('20', dtype='<U2'),\n",
       " '0': array([[3]]),\n",
       " '1': array([[3]]),\n",
       " '2': array([[3]]),\n",
       " '3': array([[3]]),\n",
       " '4': array([[3]]),\n",
       " '5': array([[3]]),\n",
       " '6': array([[1]]),\n",
       " '7': array([[1]]),\n",
       " '8': array([[2]]),\n",
       " '9': array([[2]]),\n",
       " '10': array([[3]]),\n",
       " '11': array([[3]]),\n",
       " '12': array([[3]]),\n",
       " '13': array([[1]]),\n",
       " '14': array([[1]]),\n",
       " '15': array([[3]]),\n",
       " '16': array([[2]]),\n",
       " '17': array([[1]]),\n",
       " '18': array([[1]]),\n",
       " '19': array([[2]]),\n",
       " '20': array([[2]]),\n",
       " '21': array([[1]]),\n",
       " '22': array([[3]]),\n",
       " '23': array([[1]]),\n",
       " '24': array([[1]]),\n",
       " '25': array([[2]]),\n",
       " '26': array([[1]]),\n",
       " '27': array([[1]]),\n",
       " '28': array([[1]]),\n",
       " '29': array([[1]]),\n",
       " '30': array([[1]]),\n",
       " '31': array([[3]]),\n",
       " '32': array([[3]]),\n",
       " '33': array([[1]]),\n",
       " '34': array([[1]]),\n",
       " '35': array([[1]]),\n",
       " '36': array([[1]]),\n",
       " '37': array([[3]]),\n",
       " '38': array([[1]]),\n",
       " '39': array([[1]]),\n",
       " '40': array([[1]]),\n",
       " '41': array([[3]]),\n",
       " '42': array([[3]]),\n",
       " '43': array([[3]]),\n",
       " '44': array([[1]]),\n",
       " '45': array([[1]]),\n",
       " '46': array([[3]]),\n",
       " '47': array([[1]]),\n",
       " '48': array([[1]]),\n",
       " '49': array([[1]]),\n",
       " '50': array([[1]]),\n",
       " '51': array([[2]]),\n",
       " '52': array([[2]]),\n",
       " '53': array([[2]]),\n",
       " '54': array([[1]]),\n",
       " '55': array([[1]]),\n",
       " '56': array([[3]]),\n",
       " '57': array([[3]]),\n",
       " '58': array([[3]]),\n",
       " '59': array([[1]]),\n",
       " '60': array([[1]]),\n",
       " '61': array([[1]]),\n",
       " '62': array([[3]]),\n",
       " '63': array([[1]]),\n",
       " '64': array([[3]]),\n",
       " '65': array([[1]]),\n",
       " '66': array([[2]]),\n",
       " '67': array([[2]]),\n",
       " '68': array([[1]]),\n",
       " '69': array([[1]]),\n",
       " '70': array([[2]]),\n",
       " '71': array([[1]]),\n",
       " '72': array([[2]]),\n",
       " '73': array([[1]]),\n",
       " '74': array([[2]]),\n",
       " '75': array([[2]]),\n",
       " '76': array([[2]]),\n",
       " '77': array([[2]]),\n",
       " '78': array([[2]]),\n",
       " '79': array([[1]]),\n",
       " '80': array([[1]]),\n",
       " '81': array([[1]]),\n",
       " '82': array([[3]]),\n",
       " '83': array([[3]]),\n",
       " '84': array([[1]]),\n",
       " '85': array([[1]]),\n",
       " '86': array([[1]]),\n",
       " '87': array([[2]]),\n",
       " '88': array([[2]]),\n",
       " '89': array([[1]]),\n",
       " '90': array([[1]]),\n",
       " '91': array([[1]]),\n",
       " '92': array([[1]]),\n",
       " '93': array([[1]]),\n",
       " '94': array([[2]]),\n",
       " '95': array([[2]]),\n",
       " '96': array([[2]]),\n",
       " '97': array([[2]]),\n",
       " '98': array([[2]]),\n",
       " '99': array([[3]]),\n",
       " '100': array([[3]]),\n",
       " '101': array([[1]]),\n",
       " '102': array([[1]]),\n",
       " '103': array([[1]]),\n",
       " '104': array([[1]]),\n",
       " '105': array([[1]]),\n",
       " '106': array([[1]]),\n",
       " '107': array([[1]]),\n",
       " '108': array([[1]]),\n",
       " '109': array([[3]]),\n",
       " '110': array([[3]]),\n",
       " '111': array([[1]]),\n",
       " '112': array([[1]]),\n",
       " '113': array([[1]]),\n",
       " '114': array([[1]]),\n",
       " '115': array([[1]]),\n",
       " '116': array([[1]]),\n",
       " '117': array([[1]]),\n",
       " '118': array([[1]]),\n",
       " '119': array([[1]]),\n",
       " '120': array([[3]]),\n",
       " '121': array([[3]]),\n",
       " '122': array([[1]]),\n",
       " '123': array([[1]]),\n",
       " '124': array([[1]]),\n",
       " '125': array([[3]]),\n",
       " '126': array([[3]]),\n",
       " '127': array([[1]]),\n",
       " '128': array([[1]]),\n",
       " '129': array([[1]]),\n",
       " '130': array([[1]]),\n",
       " '131': array([[1]]),\n",
       " '132': array([[1]]),\n",
       " '133': array([[1]]),\n",
       " '134': array([[2]]),\n",
       " '135': array([[2]]),\n",
       " '136': array([[2]]),\n",
       " '137': array([[1]]),\n",
       " '138': array([[1]]),\n",
       " '139': array([[1]]),\n",
       " '140': array([[1]]),\n",
       " '141': array([[1]]),\n",
       " '142': array([[1]]),\n",
       " '143': array([[1]]),\n",
       " '144': array([[2]]),\n",
       " '145': array([[2]]),\n",
       " '146': array([[2]]),\n",
       " '147': array([[1]]),\n",
       " '148': array([[3]]),\n",
       " '149': array([[3]]),\n",
       " '150': array([[3]]),\n",
       " '151': array([[1]]),\n",
       " '152': array([[1]]),\n",
       " '153': array([[1]]),\n",
       " '154': array([[1]]),\n",
       " '155': array([[1]]),\n",
       " '156': array([[2]]),\n",
       " '157': array([[2]]),\n",
       " '158': array([[2]]),\n",
       " '159': array([[1]]),\n",
       " '160': array([[1]]),\n",
       " '161': array([[1]]),\n",
       " '162': array([[1]]),\n",
       " '163': array([[1]]),\n",
       " '164': array([[2]]),\n",
       " '165': array([[2]]),\n",
       " '166': array([[2]]),\n",
       " '167': array([[2]]),\n",
       " '168': array([[2]]),\n",
       " '169': array([[1]]),\n",
       " '170': array([[1]]),\n",
       " '171': array([[1]]),\n",
       " '172': array([[1]]),\n",
       " '173': array([[1]]),\n",
       " '174': array([[1]]),\n",
       " '175': array([[1]]),\n",
       " '176': array([[1]]),\n",
       " '177': array([[1]]),\n",
       " '178': array([[1]]),\n",
       " '179': array([[1]]),\n",
       " '180': array([[1]]),\n",
       " '181': array([[1]]),\n",
       " '182': array([[1]]),\n",
       " '183': array([[1]]),\n",
       " '184': array([[1]]),\n",
       " '185': array([[1]]),\n",
       " '186': array([[3]]),\n",
       " '187': array([[1]]),\n",
       " '188': array([[1]]),\n",
       " '189': array([[1]]),\n",
       " '190': array([[1]]),\n",
       " '191': array([[1]]),\n",
       " '192': array([[1]]),\n",
       " '193': array([[1]]),\n",
       " '194': array([[3]]),\n",
       " '195': array([[3]]),\n",
       " '196': array([[1]]),\n",
       " '197': array([[1]]),\n",
       " '198': array([[1]]),\n",
       " '199': array([[2]]),\n",
       " '200': array([[1]]),\n",
       " '201': array([[1]]),\n",
       " '202': array([[2]]),\n",
       " '203': array([[1]]),\n",
       " '204': array([[1]]),\n",
       " '205': array([[3]]),\n",
       " '206': array([[1]]),\n",
       " '207': array([[1]]),\n",
       " '208': array([[1]]),\n",
       " '209': array([[1]]),\n",
       " '210': array([[2]]),\n",
       " '211': array([[1]]),\n",
       " '212': array([[1]]),\n",
       " '213': array([[1]]),\n",
       " '214': array([[3]]),\n",
       " '215': array([[1]]),\n",
       " '216': array([[1]]),\n",
       " '217': array([[1]]),\n",
       " '218': array([[1]]),\n",
       " '219': array([[1]]),\n",
       " '220': array([[2]]),\n",
       " '221': array([[2]]),\n",
       " '222': array([[2]]),\n",
       " '223': array([[2]]),\n",
       " '224': array([[2]]),\n",
       " '225': array([[2]]),\n",
       " '226': array([[3]]),\n",
       " '227': array([[3]]),\n",
       " '228': array([[3]]),\n",
       " '229': array([[1]]),\n",
       " '230': array([[1]]),\n",
       " '231': array([[1]]),\n",
       " '232': array([[1]]),\n",
       " '233': array([[1]]),\n",
       " '234': array([[1]]),\n",
       " '235': array([[2]]),\n",
       " '236': array([[2]]),\n",
       " '237': array([[2]]),\n",
       " '238': array([[2]]),\n",
       " '239': array([[2]]),\n",
       " '240': array([[2]]),\n",
       " '241': array([[2]]),\n",
       " '242': array([[2]]),\n",
       " '243': array([[2]]),\n",
       " '244': array([[2]]),\n",
       " '245': array([[2]]),\n",
       " '246': array([[2]]),\n",
       " '247': array([[2]]),\n",
       " '248': array([[1]]),\n",
       " '249': array([[1]]),\n",
       " '250': array([[1]]),\n",
       " '251': array([[1]]),\n",
       " '252': array([[2]]),\n",
       " '253': array([[2]]),\n",
       " '254': array([[2]]),\n",
       " '255': array([[2]]),\n",
       " '256': array([[2]]),\n",
       " '257': array([[2]]),\n",
       " '258': array([[1]]),\n",
       " '259': array([[1]]),\n",
       " '260': array([[1]]),\n",
       " '261': array([[3]]),\n",
       " '262': array([[1]]),\n",
       " '263': array([[1]]),\n",
       " '264': array([[1]]),\n",
       " '265': array([[1]]),\n",
       " '266': array([[1]]),\n",
       " '267': array([[1]]),\n",
       " '268': array([[1]]),\n",
       " '269': array([[3]]),\n",
       " '270': array([[3]]),\n",
       " '271': array([[3]]),\n",
       " '272': array([[1]]),\n",
       " '273': array([[1]]),\n",
       " '274': array([[1]]),\n",
       " '275': array([[1]]),\n",
       " '276': array([[1]]),\n",
       " '277': array([[1]]),\n",
       " '278': array([[2]]),\n",
       " '279': array([[1]]),\n",
       " '280': array([[1]]),\n",
       " '281': array([[1]]),\n",
       " '282': array([[3]]),\n",
       " '283': array([[1]]),\n",
       " '284': array([[1]]),\n",
       " '285': array([[1]]),\n",
       " '286': array([[1]]),\n",
       " '287': array([[1]]),\n",
       " '288': array([[3]]),\n",
       " '289': array([[1]]),\n",
       " '290': array([[1]]),\n",
       " '291': array([[1]]),\n",
       " '292': array([[1]]),\n",
       " '293': array([[1]]),\n",
       " '294': array([[3]]),\n",
       " '295': array([[3]]),\n",
       " '296': array([[1]]),\n",
       " '297': array([[1]]),\n",
       " '298': array([[1]]),\n",
       " '299': array([[1]]),\n",
       " '300': array([[1]]),\n",
       " '301': array([[2]]),\n",
       " '302': array([[2]]),\n",
       " '303': array([[1]]),\n",
       " '304': array([[1]]),\n",
       " '305': array([[1]]),\n",
       " '306': array([[2]]),\n",
       " '307': array([[3]]),\n",
       " '308': array([[1]]),\n",
       " '309': array([[1]]),\n",
       " '310': array([[1]]),\n",
       " '311': array([[2]]),\n",
       " '312': array([[1]]),\n",
       " '313': array([[1]]),\n",
       " '314': array([[2]]),\n",
       " '315': array([[3]]),\n",
       " '316': array([[1]]),\n",
       " '317': array([[1]]),\n",
       " '318': array([[1]]),\n",
       " '319': array([[1]]),\n",
       " '320': array([[2]]),\n",
       " '321': array([[1]]),\n",
       " '322': array([[1]]),\n",
       " '323': array([[3]]),\n",
       " '324': array([[1]]),\n",
       " '325': array([[1]]),\n",
       " '326': array([[1]]),\n",
       " '327': array([[1]]),\n",
       " '328': array([[2]]),\n",
       " '329': array([[1]]),\n",
       " '330': array([[1]]),\n",
       " '331': array([[1]]),\n",
       " '332': array([[2]]),\n",
       " '333': array([[1]]),\n",
       " '334': array([[2]]),\n",
       " '335': array([[1]]),\n",
       " '336': array([[3]]),\n",
       " '337': array([[1]]),\n",
       " '338': array([[3]]),\n",
       " '339': array([[1]]),\n",
       " '340': array([[1]]),\n",
       " '341': array([[1]]),\n",
       " '342': array([[1]]),\n",
       " '343': array([[2]]),\n",
       " '344': array([[2]]),\n",
       " '345': array([[2]]),\n",
       " '346': array([[2]]),\n",
       " '347': array([[2]]),\n",
       " '348': array([[2]]),\n",
       " '349': array([[2]]),\n",
       " '350': array([[2]]),\n",
       " '351': array([[2]]),\n",
       " '352': array([[2]]),\n",
       " '353': array([[2]]),\n",
       " '354': array([[2]]),\n",
       " '355': array([[2]]),\n",
       " '356': array([[1]]),\n",
       " '357': array([[1]]),\n",
       " '358': array([[1]]),\n",
       " '359': array([[1]]),\n",
       " '360': array([[1]]),\n",
       " '361': array([[1]]),\n",
       " '362': array([[3]]),\n",
       " '363': array([[3]]),\n",
       " '364': array([[1]]),\n",
       " '365': array([[1]]),\n",
       " '366': array([[1]]),\n",
       " '367': array([[3]]),\n",
       " '368': array([[3]]),\n",
       " '369': array([[3]]),\n",
       " '370': array([[2]]),\n",
       " '371': array([[2]]),\n",
       " '372': array([[2]]),\n",
       " '373': array([[2]]),\n",
       " '374': array([[2]]),\n",
       " '375': array([[2]]),\n",
       " '376': array([[1]]),\n",
       " '377': array([[1]]),\n",
       " '378': array([[1]]),\n",
       " '379': array([[1]]),\n",
       " '380': array([[1]]),\n",
       " '381': array([[1]]),\n",
       " '382': array([[1]]),\n",
       " '383': array([[1]]),\n",
       " '384': array([[1]]),\n",
       " '385': array([[3]]),\n",
       " '386': array([[1]]),\n",
       " '387': array([[1]]),\n",
       " '388': array([[1]]),\n",
       " '389': array([[1]]),\n",
       " '390': array([[1]]),\n",
       " '391': array([[1]]),\n",
       " '392': array([[1]]),\n",
       " '393': array([[1]]),\n",
       " '394': array([[2]]),\n",
       " '395': array([[2]]),\n",
       " '396': array([[2]]),\n",
       " '397': array([[2]]),\n",
       " '398': array([[1]]),\n",
       " '399': array([[1]]),\n",
       " '400': array([[3]]),\n",
       " '401': array([[3]]),\n",
       " '402': array([[1]]),\n",
       " '403': array([[1]]),\n",
       " '404': array([[1]]),\n",
       " '405': array([[3]]),\n",
       " '406': array([[3]]),\n",
       " '407': array([[1]]),\n",
       " '408': array([[1]]),\n",
       " '409': array([[1]]),\n",
       " '410': array([[1]]),\n",
       " '411': array([[1]]),\n",
       " '412': array([[1]]),\n",
       " '413': array([[2]]),\n",
       " '414': array([[1]]),\n",
       " '415': array([[1]]),\n",
       " '416': array([[2]]),\n",
       " '417': array([[1]]),\n",
       " '418': array([[1]]),\n",
       " '419': array([[3]]),\n",
       " '420': array([[1]]),\n",
       " '421': array([[1]]),\n",
       " '422': array([[1]]),\n",
       " '423': array([[1]]),\n",
       " '424': array([[2]]),\n",
       " '425': array([[2]]),\n",
       " '426': array([[2]]),\n",
       " '427': array([[2]]),\n",
       " '428': array([[2]]),\n",
       " '429': array([[2]]),\n",
       " '430': array([[2]]),\n",
       " '431': array([[2]]),\n",
       " '432': array([[2]]),\n",
       " '433': array([[3]]),\n",
       " '434': array([[3]]),\n",
       " '435': array([[3]]),\n",
       " '436': array([[1]]),\n",
       " '437': array([[1]]),\n",
       " '438': array([[1]]),\n",
       " '439': array([[1]]),\n",
       " '440': array([[1]]),\n",
       " '441': array([[1]]),\n",
       " '442': array([[1]]),\n",
       " '443': array([[1]]),\n",
       " '444': array([[2]]),\n",
       " '445': array([[1]]),\n",
       " '446': array([[1]]),\n",
       " '447': array([[1]]),\n",
       " '448': array([[1]]),\n",
       " '449': array([[1]]),\n",
       " '450': array([[1]]),\n",
       " '451': array([[2]]),\n",
       " '452': array([[2]]),\n",
       " '453': array([[2]]),\n",
       " '454': array([[2]]),\n",
       " '455': array([[2]]),\n",
       " '456': array([[1]]),\n",
       " '457': array([[1]]),\n",
       " '458': array([[1]]),\n",
       " '459': array([[1]]),\n",
       " '460': array([[1]]),\n",
       " '461': array([[3]]),\n",
       " '462': array([[3]]),\n",
       " '463': array([[1]]),\n",
       " '464': array([[1]]),\n",
       " '465': array([[1]]),\n",
       " '466': array([[1]]),\n",
       " '467': array([[1]]),\n",
       " '468': array([[3]]),\n",
       " '469': array([[1]]),\n",
       " '470': array([[1]]),\n",
       " '471': array([[2]]),\n",
       " '472': array([[2]]),\n",
       " '473': array([[2]]),\n",
       " '474': array([[1]]),\n",
       " '475': array([[1]]),\n",
       " '476': array([[1]]),\n",
       " '477': array([[1]]),\n",
       " '478': array([[1]]),\n",
       " '479': array([[1]]),\n",
       " '480': array([[3]]),\n",
       " '481': array([[3]]),\n",
       " '482': array([[3]]),\n",
       " '483': array([[3]]),\n",
       " '484': array([[3]]),\n",
       " '485': array([[2]]),\n",
       " '486': array([[2]]),\n",
       " '487': array([[2]]),\n",
       " '488': array([[3]]),\n",
       " '489': array([[3]]),\n",
       " '490': array([[3]]),\n",
       " '491': array([[3]]),\n",
       " '492': array([[1]]),\n",
       " '493': array([[1]]),\n",
       " '494': array([[1]]),\n",
       " '495': array([[1]]),\n",
       " '496': array([[3]]),\n",
       " '497': array([[3]]),\n",
       " '498': array([[1]]),\n",
       " '499': array([[1]]),\n",
       " '500': array([[3]]),\n",
       " '501': array([[1]]),\n",
       " '502': array([[1]]),\n",
       " '503': array([[1]]),\n",
       " '504': array([[1]]),\n",
       " '505': array([[2]]),\n",
       " '506': array([[1]]),\n",
       " '507': array([[1]]),\n",
       " '508': array([[2]]),\n",
       " '509': array([[2]]),\n",
       " '510': array([[1]]),\n",
       " '511': array([[1]]),\n",
       " '512': array([[1]]),\n",
       " '513': array([[1]]),\n",
       " '514': array([[2]]),\n",
       " '515': array([[1]]),\n",
       " '516': array([[1]]),\n",
       " '517': array([[1]]),\n",
       " '518': array([[1]]),\n",
       " '519': array([[1]]),\n",
       " '520': array([[3]]),\n",
       " '521': array([[1]]),\n",
       " '522': array([[1]]),\n",
       " '523': array([[1]]),\n",
       " '524': array([[2]]),\n",
       " '525': array([[1]]),\n",
       " '526': array([[1]]),\n",
       " '527': array([[1]]),\n",
       " '528': array([[1]]),\n",
       " '529': array([[1]]),\n",
       " '530': array([[2]]),\n",
       " '531': array([[2]]),\n",
       " '532': array([[1]]),\n",
       " '533': array([[1]]),\n",
       " '534': array([[1]]),\n",
       " '535': array([[1]]),\n",
       " '536': array([[1]]),\n",
       " '537': array([[1]]),\n",
       " '538': array([[1]]),\n",
       " '539': array([[1]]),\n",
       " '540': array([[1]]),\n",
       " '541': array([[1]]),\n",
       " '542': array([[3]]),\n",
       " '543': array([[3]]),\n",
       " '544': array([[1]]),\n",
       " '545': array([[1]]),\n",
       " '546': array([[1]]),\n",
       " '547': array([[1]]),\n",
       " '548': array([[1]]),\n",
       " '549': array([[3]]),\n",
       " '550': array([[3]]),\n",
       " '551': array([[3]]),\n",
       " '552': array([[1]]),\n",
       " '553': array([[1]]),\n",
       " '554': array([[2]]),\n",
       " '555': array([[2]]),\n",
       " '556': array([[1]]),\n",
       " '557': array([[1]]),\n",
       " '558': array([[3]]),\n",
       " '559': array([[1]]),\n",
       " '560': array([[1]]),\n",
       " '561': array([[1]]),\n",
       " '562': array([[3]]),\n",
       " '563': array([[3]]),\n",
       " '564': array([[3]]),\n",
       " '565': array([[3]]),\n",
       " '566': array([[3]]),\n",
       " '567': array([[1]]),\n",
       " '568': array([[1]]),\n",
       " '569': array([[1]]),\n",
       " '570': array([[1]]),\n",
       " '571': array([[1]]),\n",
       " '572': array([[1]]),\n",
       " '573': array([[2]]),\n",
       " '574': array([[2]]),\n",
       " '575': array([[1]]),\n",
       " '576': array([[1]]),\n",
       " '577': array([[1]]),\n",
       " '578': array([[1]]),\n",
       " '579': array([[3]]),\n",
       " '580': array([[1]]),\n",
       " '581': array([[1]]),\n",
       " '582': array([[1]]),\n",
       " '583': array([[3]]),\n",
       " '584': array([[1]]),\n",
       " '585': array([[1]]),\n",
       " '586': array([[1]]),\n",
       " '587': array([[1]]),\n",
       " '588': array([[1]]),\n",
       " '589': array([[1]]),\n",
       " '590': array([[1]]),\n",
       " '591': array([[1]]),\n",
       " '592': array([[3]]),\n",
       " '593': array([[3]]),\n",
       " '594': array([[1]]),\n",
       " '595': array([[1]]),\n",
       " '596': array([[1]]),\n",
       " '597': array([[3]]),\n",
       " '598': array([[3]]),\n",
       " '599': array([[3]]),\n",
       " '600': array([[3]]),\n",
       " '601': array([[3]]),\n",
       " '602': array([[2]]),\n",
       " '603': array([[2]]),\n",
       " '604': array([[2]]),\n",
       " '605': array([[2]]),\n",
       " '606': array([[2]]),\n",
       " '607': array([[1]]),\n",
       " '608': array([[1]]),\n",
       " '609': array([[3]]),\n",
       " '610': array([[1]]),\n",
       " '611': array([[1]]),\n",
       " '612': array([[1]]),\n",
       " '613': array([[1]]),\n",
       " '614': array([[1]]),\n",
       " '615': array([[3]]),\n",
       " '616': array([[3]]),\n",
       " '617': array([[3]]),\n",
       " '618': array([[3]]),\n",
       " '619': array([[3]]),\n",
       " '620': array([[3]]),\n",
       " '621': array([[0]])}"
      ]
     },
     "execution_count": 38,
     "metadata": {},
     "output_type": "execute_result"
    }
   ],
   "source": [
    "path = \"/mnt/vlfm_query_embed/embed_results/vlfm/hssd/step_actions/step_actions_scene_106366386_174226770_ep_20.npz\"\n",
    "\n",
    "check = dict(np.load(path, allow_pickle=True))\n",
    "check"
   ]
  },
  {
   "cell_type": "code",
   "execution_count": null,
   "id": "812004eb",
   "metadata": {},
   "outputs": [
    {
     "data": {
      "text/plain": [
       "{'grid_cell_size': array(0.1),\n",
       " 'map_shape': array([600, 600]),\n",
       " 'pixel_origin': array([300, 300]),\n",
       " 'init_pose': array({'init_pos_abs': [4.89618, 0.0184, -4.25448], 'init_rot_abs': [0, 0.9625, 0, 0.27129]},\n",
       "       dtype=object),\n",
       " 'episode': array(57),\n",
       " 'floor': array(0)}"
      ]
     },
     "execution_count": 9,
     "metadata": {},
     "output_type": "execute_result"
    }
   ],
   "source": [
    "check_path = \"/mnt/vlfm_query_embed/embed_results/one_map/hm3d/grid_10/init_dicts/init_dict_model_SED_scene_5cdEh9F2hJL.npz\"\n",
    "\n",
    "check = dict(np.load(check_path, allow_pickle=True))\n",
    "check"
   ]
  },
  {
   "cell_type": "code",
   "execution_count": 25,
   "id": "523863c1",
   "metadata": {},
   "outputs": [
    {
     "data": {
      "text/plain": [
       "{'grid_cell_size': array(0.1),\n",
       " 'map_shape': array([600, 600]),\n",
       " 'pixel_origin': array([300, 300]),\n",
       " 'init_pose': array({'init_pos_abs': [-14.57473, 0.18403, -6.87051], 'init_rot_abs': [0, 0.42004, 0, 0.90751]},\n",
       "       dtype=object),\n",
       " 'episode': array(20)}"
      ]
     },
     "execution_count": 25,
     "metadata": {},
     "output_type": "execute_result"
    }
   ],
   "source": [
    "check_path = \"/mnt/vlfm_query_embed/embed_results/one_map/hssd/grid_10/init_dicts/init_dict_model_BLIP2_scene_106366386_174226770.npz\"\n",
    "\n",
    "check = dict(np.load(check_path, allow_pickle=True))\n",
    "check"
   ]
  },
  {
   "cell_type": "markdown",
   "id": "ed553db3",
   "metadata": {},
   "source": [
    "### OneMap Feature Map: Convert pixel location to habitat metric location"
   ]
  },
  {
   "cell_type": "code",
   "execution_count": 5,
   "id": "7904d63e",
   "metadata": {},
   "outputs": [],
   "source": [
    "import os\n",
    "import numpy as np\n",
    "import matplotlib.pyplot as plt"
   ]
  },
  {
   "cell_type": "markdown",
   "id": "2a9fb376",
   "metadata": {},
   "source": [
    "#### Useful Funcs"
   ]
  },
  {
   "cell_type": "code",
   "execution_count": 19,
   "id": "d742ef94",
   "metadata": {},
   "outputs": [],
   "source": [
    "def plot_feature_map(arr, as_binary=True, plot_pts = [],\n",
    "                     x_lim = None, y_lim = None):\n",
    "\n",
    "    flat_arr = arr.copy()\n",
    "    flat_arr = flat_arr.sum(axis = 2)\n",
    "    if as_binary: flat_arr[flat_arr != 0] = 1\n",
    "\n",
    "    plt.imshow(flat_arr)\n",
    "\n",
    "    if len(plot_pts) > 0:\n",
    "        for pt in plot_pts:\n",
    "            plt.plot(pt[0], pt[1], \"ro\")\n",
    "\n",
    "    if x_lim: plt.xlim(x_lim[0], x_lim[1])\n",
    "    if y_lim: plt.ylim(y_lim[0], y_lim[1])\n",
    "    plt.show()"
   ]
  },
  {
   "cell_type": "markdown",
   "id": "53d9d4a8",
   "metadata": {},
   "source": [
    "#### Reading Feature Map"
   ]
  },
  {
   "cell_type": "code",
   "execution_count": 7,
   "id": "faf0178c",
   "metadata": {},
   "outputs": [
    {
     "data": {
      "text/plain": [
       "['embed_dict_scene_107734176_176000019.npz',\n",
       " 'embed_dict_scene_106366104_174226332.npz',\n",
       " 'embed_dict_scene_102817140.npz',\n",
       " 'embed_dict_scene_106366386_174226770.npz',\n",
       " 'embed_dict_scene_105515211_173104185.npz',\n",
       " 'embed_dict_scene_103997895_171031182.npz',\n",
       " 'embed_dict_scene_102344094.npz',\n",
       " 'embed_dict_scene_106879080_174887211.npz',\n",
       " 'embed_dict_scene_104348361_171513414.npz',\n",
       " 'embed_dict_scene_107733960_175999701.npz',\n",
       " 'embed_dict_scene_108736884_177263634.npz',\n",
       " 'embed_dict_scene_108736779_177263484.npz',\n",
       " 'embed_dict_scene_107734254_176000121.npz',\n",
       " 'embed_dict_scene_102816036.npz',\n",
       " 'embed_dict_scene_106366410_174226806.npz',\n",
       " 'embed_dict_scene_108736800_177263517.npz',\n",
       " 'embed_dict_scene_106878960_174887073.npz']"
      ]
     },
     "execution_count": 7,
     "metadata": {},
     "output_type": "execute_result"
    }
   ],
   "source": [
    "features_dir = \"results/hssd/embed_dicts\"\n",
    "\n",
    "os.listdir(features_dir)"
   ]
  },
  {
   "cell_type": "code",
   "execution_count": 8,
   "id": "1a1843f8",
   "metadata": {},
   "outputs": [
    {
     "name": "stdout",
     "output_type": "stream",
     "text": [
      "Scene ID: 102344094\n",
      "Shape of Feature Map: (600, 600, 768)\n"
     ]
    },
    {
     "data": {
      "image/png": "[encoded data removed]",
      "text/plain": [
       "<Figure size 640x480 with 1 Axes>"
      ]
     },
     "metadata": {},
     "output_type": "display_data"
    }
   ],
   "source": [
    "feature_map_path = os.path.join(features_dir, os.listdir(features_dir)[6])\n",
    "feature_map = dict(np.load(feature_map_path, allow_pickle=True))[\"arr\"]\n",
    "\n",
    "scene_id = feature_map_path.split(\"scene_\")[-1].split(\".\")[0]\n",
    "\n",
    "print(f\"Scene ID: {scene_id}\")\n",
    "print(f\"Shape of Feature Map: {feature_map.shape}\")\n",
    "\n",
    "plot_feature_map(feature_map, plot_pts = [(300, 300)])"
   ]
  },
  {
   "cell_type": "code",
   "execution_count": 9,
   "id": "b75566f5",
   "metadata": {},
   "outputs": [
    {
     "data": {
      "image/png": "[encoded data removed]",
      "text/plain": [
       "<Figure size 640x480 with 1 Axes>"
      ]
     },
     "metadata": {},
     "output_type": "display_data"
    }
   ],
   "source": [
    "plot_feature_map(feature_map, \n",
    "                    as_binary = False,\n",
    "                    plot_pts = [(300, 300), (348, 305)],\n",
    "                    x_lim = (300, 450),\n",
    "                    y_lim = (250, 400))"
   ]
  },
  {
   "cell_type": "code",
   "execution_count": 10,
   "id": "61d634de",
   "metadata": {},
   "outputs": [
    {
     "data": {
      "text/plain": [
       "0.1"
      ]
     },
     "execution_count": 10,
     "metadata": {},
     "output_type": "execute_result"
    }
   ],
   "source": [
    "60/600"
   ]
  },
  {
   "cell_type": "code",
   "execution_count": null,
   "id": "594b7c39",
   "metadata": {},
   "outputs": [
    {
     "data": {
      "text/plain": [
       "(-4.800000000000001, -0.5)"
      ]
     },
     "execution_count": 22,
     "metadata": {},
     "output_type": "execute_result"
    }
   ],
   "source": [
    "def px_to_metric(px, py, map_center_cells = (300, 300), cell_size = 0.1):\n",
    "    x = (px - map_center_cells[0]) * cell_size * -1\n",
    "    y = (py - map_center_cells[1]) * cell_size * -1\n",
    "    \n",
    "    return (y, x)\n",
    "\n",
    "px_to_metric(px = 305, py = 348)\n",
    "\n",
    "#TODO: Check if the object positions are saved in the habitat format or the reversed format"
   ]
  },
  {
   "cell_type": "code",
   "execution_count": 13,
   "id": "75a48cc4",
   "metadata": {},
   "outputs": [
    {
     "data": {
      "text/plain": [
       "{'grid_cell_size': array(10.),\n",
       " 'map_shape': array([1000, 1000]),\n",
       " 'pixel_origin': array([500, 500]),\n",
       " 'pixels_per_meter': array(10),\n",
       " 'init_pose': array({'init_pos_abs': [-4.8688, 0.19754, -0.59162], 'init_rot_abs': [0, 0.78696, 0, 0.61701]},\n",
       "       dtype=object),\n",
       " 'scene': array('102344094', dtype='<U9'),\n",
       " 'episode': array('20', dtype='<U2')}"
      ]
     },
     "execution_count": 13,
     "metadata": {},
     "output_type": "execute_result"
    }
   ],
   "source": [
    "init_path = \"/mnt/vlfm_query_embed/embed_results/hssd/grid_20/init_dicts/init_dict_model_BLIP2_scene_102344094.npz\"\n",
    "\n",
    "init_dict = dict(np.load(init_path, allow_pickle=True))\n",
    "init_dict"
   ]
  },
  {
   "cell_type": "code",
   "execution_count": 44,
   "id": "21f67dea",
   "metadata": {},
   "outputs": [
    {
     "data": {
      "text/plain": [
       "dict_keys(['grid_cell_size', 'map_shape', 'pixel_origin', 'pixels_per_meter', 'init_pose', 'scene', 'episode'])"
      ]
     },
     "execution_count": 44,
     "metadata": {},
     "output_type": "execute_result"
    }
   ],
   "source": [
    "check_path = \"/mnt/vlfm_query_embed/embed_results/hssd/grid_20/init_dicts/init_dict_model_BLIP2_scene_102344094.npz\"\n",
    "\n",
    "check = dict(np.load(check_path, allow_pickle=True))\n",
    "check.keys()"
   ]
  },
  {
   "cell_type": "code",
   "execution_count": 45,
   "id": "26e99d3a",
   "metadata": {},
   "outputs": [
    {
     "data": {
      "text/plain": [
       "{'grid_cell_size': array(10.),\n",
       " 'map_shape': array([1000, 1000]),\n",
       " 'pixel_origin': array([500, 500]),\n",
       " 'pixels_per_meter': array(10),\n",
       " 'init_pose': array({'init_pos_abs': [-4.8688, 0.19754, -0.59162], 'init_rot_abs': [0, 0.78696, 0, 0.61701]},\n",
       "       dtype=object),\n",
       " 'scene': array('102344094', dtype='<U9'),\n",
       " 'episode': array('20', dtype='<U2')}"
      ]
     },
     "execution_count": 45,
     "metadata": {},
     "output_type": "execute_result"
    }
   ],
   "source": [
    "check"
   ]
  },
  {
   "cell_type": "markdown",
   "id": "9c7b4b31",
   "metadata": {},
   "source": [
    "### Move to New Directory: Feature Maps"
   ]
  },
  {
   "cell_type": "code",
   "execution_count": 1,
   "id": "f92e69fe",
   "metadata": {},
   "outputs": [],
   "source": [
    "import os\n",
    "import shutil\n",
    "from tqdm import tqdm"
   ]
  },
  {
   "cell_type": "code",
   "execution_count": 4,
   "id": "7085fc97",
   "metadata": {},
   "outputs": [
    {
     "data": {
      "text/plain": [
       "['embed_dict_scene_107734176_176000019.npz',\n",
       " 'embed_dict_scene_106366104_174226332.npz',\n",
       " 'embed_dict_scene_102817140.npz',\n",
       " 'embed_dict_scene_106366386_174226770.npz',\n",
       " 'embed_dict_scene_105515211_173104185.npz',\n",
       " 'embed_dict_scene_103997895_171031182.npz',\n",
       " 'embed_dict_scene_102344094.npz',\n",
       " 'embed_dict_scene_106879080_174887211.npz',\n",
       " 'embed_dict_scene_104348361_171513414.npz',\n",
       " 'embed_dict_scene_107733960_175999701.npz',\n",
       " 'embed_dict_scene_108736884_177263634.npz',\n",
       " 'embed_dict_scene_108736779_177263484.npz',\n",
       " 'embed_dict_scene_107734254_176000121.npz',\n",
       " 'embed_dict_scene_102816036.npz',\n",
       " 'embed_dict_scene_106366410_174226806.npz',\n",
       " 'embed_dict_scene_108736800_177263517.npz',\n",
       " 'embed_dict_scene_106878960_174887073.npz']"
      ]
     },
     "execution_count": 4,
     "metadata": {},
     "output_type": "execute_result"
    }
   ],
   "source": [
    "features_dir = \"results/hssd/embed_dicts\"\n",
    "\n",
    "os.listdir(features_dir)"
   ]
  },
  {
   "cell_type": "code",
   "execution_count": null,
   "id": "148c8b8e",
   "metadata": {},
   "outputs": [
    {
     "name": "stderr",
     "output_type": "stream",
     "text": [
      "  0%|          | 0/17 [00:00<?, ?it/s]"
     ]
    },
    {
     "name": "stdout",
     "output_type": "stream",
     "text": [
      "107734176_176000019\n",
      "results/hssd/feature_maps/feature_map_scene_107734176_176000019.npz\n"
     ]
    },
    {
     "name": "stderr",
     "output_type": "stream",
     "text": [
      "  6%|▌         | 1/17 [00:19<05:17, 19.87s/it]"
     ]
    },
    {
     "name": "stdout",
     "output_type": "stream",
     "text": [
      "106366104_174226332\n",
      "results/hssd/feature_maps/feature_map_scene_106366104_174226332.npz\n"
     ]
    },
    {
     "name": "stderr",
     "output_type": "stream",
     "text": [
      " 12%|█▏        | 2/17 [00:40<05:01, 20.11s/it]"
     ]
    },
    {
     "name": "stdout",
     "output_type": "stream",
     "text": [
      "102817140\n",
      "results/hssd/feature_maps/feature_map_scene_102817140.npz\n"
     ]
    },
    {
     "name": "stderr",
     "output_type": "stream",
     "text": [
      " 18%|█▊        | 3/17 [00:59<04:35, 19.65s/it]"
     ]
    },
    {
     "name": "stdout",
     "output_type": "stream",
     "text": [
      "106366386_174226770\n",
      "results/hssd/feature_maps/feature_map_scene_106366386_174226770.npz\n"
     ]
    },
    {
     "name": "stderr",
     "output_type": "stream",
     "text": [
      " 24%|██▎       | 4/17 [01:18<04:12, 19.39s/it]"
     ]
    },
    {
     "name": "stdout",
     "output_type": "stream",
     "text": [
      "105515211_173104185\n",
      "results/hssd/feature_maps/feature_map_scene_105515211_173104185.npz\n"
     ]
    },
    {
     "name": "stderr",
     "output_type": "stream",
     "text": [
      " 29%|██▉       | 5/17 [01:37<03:53, 19.50s/it]"
     ]
    },
    {
     "name": "stdout",
     "output_type": "stream",
     "text": [
      "103997895_171031182\n",
      "results/hssd/feature_maps/feature_map_scene_103997895_171031182.npz\n"
     ]
    },
    {
     "name": "stderr",
     "output_type": "stream",
     "text": [
      " 35%|███▌      | 6/17 [01:59<03:40, 20.05s/it]"
     ]
    },
    {
     "name": "stdout",
     "output_type": "stream",
     "text": [
      "102344094\n",
      "results/hssd/feature_maps/feature_map_scene_102344094.npz\n"
     ]
    },
    {
     "name": "stderr",
     "output_type": "stream",
     "text": [
      " 41%|████      | 7/17 [02:18<03:17, 19.78s/it]"
     ]
    },
    {
     "name": "stdout",
     "output_type": "stream",
     "text": [
      "106879080_174887211\n",
      "results/hssd/feature_maps/feature_map_scene_106879080_174887211.npz\n"
     ]
    },
    {
     "name": "stderr",
     "output_type": "stream",
     "text": [
      " 47%|████▋     | 8/17 [02:36<02:53, 19.27s/it]"
     ]
    },
    {
     "name": "stdout",
     "output_type": "stream",
     "text": [
      "104348361_171513414\n",
      "results/hssd/feature_maps/feature_map_scene_104348361_171513414.npz\n"
     ]
    },
    {
     "name": "stderr",
     "output_type": "stream",
     "text": [
      " 53%|█████▎    | 9/17 [02:56<02:34, 19.37s/it]"
     ]
    },
    {
     "name": "stdout",
     "output_type": "stream",
     "text": [
      "107733960_175999701\n",
      "results/hssd/feature_maps/feature_map_scene_107733960_175999701.npz\n"
     ]
    },
    {
     "name": "stderr",
     "output_type": "stream",
     "text": [
      " 59%|█████▉    | 10/17 [03:14<02:13, 19.06s/it]"
     ]
    },
    {
     "name": "stdout",
     "output_type": "stream",
     "text": [
      "108736884_177263634\n",
      "results/hssd/feature_maps/feature_map_scene_108736884_177263634.npz\n"
     ]
    },
    {
     "name": "stderr",
     "output_type": "stream",
     "text": [
      " 65%|██████▍   | 11/17 [03:35<01:58, 19.81s/it]"
     ]
    },
    {
     "name": "stdout",
     "output_type": "stream",
     "text": [
      "108736779_177263484\n",
      "results/hssd/feature_maps/feature_map_scene_108736779_177263484.npz\n"
     ]
    },
    {
     "name": "stderr",
     "output_type": "stream",
     "text": [
      " 71%|███████   | 12/17 [03:55<01:38, 19.68s/it]"
     ]
    },
    {
     "name": "stdout",
     "output_type": "stream",
     "text": [
      "107734254_176000121\n",
      "results/hssd/feature_maps/feature_map_scene_107734254_176000121.npz\n"
     ]
    },
    {
     "name": "stderr",
     "output_type": "stream",
     "text": [
      " 76%|███████▋  | 13/17 [04:12<01:15, 18.95s/it]"
     ]
    },
    {
     "name": "stdout",
     "output_type": "stream",
     "text": [
      "102816036\n",
      "results/hssd/feature_maps/feature_map_scene_102816036.npz\n"
     ]
    },
    {
     "name": "stderr",
     "output_type": "stream",
     "text": [
      " 82%|████████▏ | 14/17 [04:30<00:55, 18.53s/it]"
     ]
    },
    {
     "name": "stdout",
     "output_type": "stream",
     "text": [
      "106366410_174226806\n",
      "results/hssd/feature_maps/feature_map_scene_106366410_174226806.npz\n"
     ]
    },
    {
     "name": "stderr",
     "output_type": "stream",
     "text": [
      " 88%|████████▊ | 15/17 [04:49<00:37, 18.89s/it]"
     ]
    },
    {
     "name": "stdout",
     "output_type": "stream",
     "text": [
      "108736800_177263517\n",
      "results/hssd/feature_maps/feature_map_scene_108736800_177263517.npz\n"
     ]
    },
    {
     "name": "stderr",
     "output_type": "stream",
     "text": [
      " 94%|█████████▍| 16/17 [05:07<00:18, 18.45s/it]"
     ]
    },
    {
     "name": "stdout",
     "output_type": "stream",
     "text": [
      "106878960_174887073\n",
      "results/hssd/feature_maps/feature_map_scene_106878960_174887073.npz\n"
     ]
    },
    {
     "name": "stderr",
     "output_type": "stream",
     "text": [
      "100%|██████████| 17/17 [05:27<00:00, 19.27s/it]\n"
     ]
    }
   ],
   "source": [
    "# for file in tqdm(os.listdir(features_dir)):\n",
    "\n",
    "#     source_file_path = os.path.join(features_dir, file)\n",
    "#     scene_id = file.split(\"scene_\")[-1].split(\".\")[0]\n",
    "#     print(scene_id)\n",
    "\n",
    "#     dest_file_path = os.path.join(os.path.dirname(features_dir), f\"feature_maps/feature_map_scene_{scene_id}.npz\")\n",
    "#     os.makedirs(os.path.dirname(dest_file_path), exist_ok=True)\n",
    "#     print(dest_file_path)\n",
    "\n",
    "#     shutil.copy2(source_file_path, dest_file_path)"
   ]
  },
  {
   "cell_type": "markdown",
   "id": "93518171",
   "metadata": {},
   "source": [
    "### Converting Feature Array to Dict of Features"
   ]
  },
  {
   "cell_type": "code",
   "execution_count": 24,
   "id": "2ac632b4",
   "metadata": {},
   "outputs": [],
   "source": [
    "import os\n",
    "import numpy as np\n",
    "import matplotlib.pyplot as plt\n",
    "from tqdm import tqdm"
   ]
  },
  {
   "cell_type": "code",
   "execution_count": 16,
   "id": "15fb261d",
   "metadata": {},
   "outputs": [
    {
     "data": {
      "text/plain": [
       "['feature_map_scene_107734254_176000121.npz',\n",
       " 'feature_map_scene_106366410_174226806.npz',\n",
       " 'feature_map_scene_103997895_171031182.npz',\n",
       " 'feature_map_scene_102816036.npz',\n",
       " 'feature_map_scene_108736884_177263634.npz',\n",
       " 'feature_map_scene_106366386_174226770.npz',\n",
       " 'feature_map_scene_106879080_174887211.npz',\n",
       " 'feature_map_scene_107734176_176000019.npz',\n",
       " 'feature_map_scene_105515211_173104185.npz',\n",
       " 'feature_map_scene_102817140.npz',\n",
       " 'feature_map_scene_104348361_171513414.npz',\n",
       " 'feature_map_scene_108736800_177263517.npz',\n",
       " 'feature_map_scene_108736779_177263484.npz',\n",
       " 'feature_map_scene_106878960_174887073.npz',\n",
       " 'feature_map_scene_102344094.npz',\n",
       " 'feature_map_scene_106366104_174226332.npz',\n",
       " 'feature_map_scene_107733960_175999701.npz']"
      ]
     },
     "execution_count": 16,
     "metadata": {},
     "output_type": "execute_result"
    }
   ],
   "source": [
    "features_dir = \"results/hssd/feature_maps\"\n",
    "\n",
    "os.listdir(features_dir)"
   ]
  },
  {
   "cell_type": "code",
   "execution_count": 20,
   "id": "eaa63890",
   "metadata": {},
   "outputs": [
    {
     "name": "stdout",
     "output_type": "stream",
     "text": [
      "Scene ID: 107734254_176000121\n",
      "Shape of Feature Map: (600, 600, 768)\n"
     ]
    },
    {
     "data": {
      "image/png": "[encoded data removed]",
      "text/plain": [
       "<Figure size 640x480 with 1 Axes>"
      ]
     },
     "metadata": {},
     "output_type": "display_data"
    }
   ],
   "source": [
    "feature_map_path = os.path.join(features_dir, os.listdir(features_dir)[0])\n",
    "feature_map = dict(np.load(feature_map_path, allow_pickle=True))[\"arr\"]\n",
    "\n",
    "scene_id = feature_map_path.split(\"scene_\")[-1].split(\".\")[0]\n",
    "\n",
    "print(f\"Scene ID: {scene_id}\")\n",
    "print(f\"Shape of Feature Map: {feature_map.shape}\")\n",
    "\n",
    "plot_feature_map(feature_map, plot_pts = [(300, 300)])"
   ]
  },
  {
   "cell_type": "code",
   "execution_count": 21,
   "id": "9bfc0d09",
   "metadata": {},
   "outputs": [],
   "source": [
    "def feature_map_to_dict(arr):\n",
    "\n",
    "    zero_threshold = 1e-6\n",
    "\n",
    "    #Obtain array indices where non-zero features are present\n",
    "    feature_norms = np.linalg.norm(arr, axis = 2)\n",
    "    non_zero_mask = feature_norms > zero_threshold\n",
    "    non_zero_inds = np.argwhere(non_zero_mask)\n",
    "\n",
    "    #Create dict with index and corresponding non-zero feature\n",
    "    feature_dict = {tuple(px) : arr[px[0], px[1], :] for px in non_zero_inds}\n",
    "\n",
    "    return feature_dict"
   ]
  },
  {
   "cell_type": "code",
   "execution_count": 22,
   "id": "dedaf53d",
   "metadata": {},
   "outputs": [
    {
     "data": {
      "text/plain": [
       "<matplotlib.image.AxesImage at 0x7f33e5d57820>"
      ]
     },
     "execution_count": 22,
     "metadata": {},
     "output_type": "execute_result"
    },
    {
     "data": {
      "image/png": "[encoded data removed]",
      "text/plain": [
       "<Figure size 640x480 with 1 Axes>"
      ]
     },
     "metadata": {},
     "output_type": "display_data"
    }
   ],
   "source": [
    "feature_dict = feature_map_to_dict(feature_map)\n",
    "\n",
    "#Check if feature dict is same as feature map\n",
    "non_zero_inds = np.array(list(feature_dict.keys()))\n",
    "\n",
    "plot_arr = np.zeros((600, 600))\n",
    "plot_arr[non_zero_inds[:, 0], non_zero_inds[:, 1]] = 1\n",
    "\n",
    "plt.imshow(plot_arr)"
   ]
  },
  {
   "cell_type": "code",
   "execution_count": null,
   "id": "bf51352c",
   "metadata": {},
   "outputs": [
    {
     "name": "stderr",
     "output_type": "stream",
     "text": [
      "  0%|          | 0/17 [00:00<?, ?it/s]"
     ]
    },
    {
     "name": "stdout",
     "output_type": "stream",
     "text": [
      "Scene: 107734254_176000121\n",
      "Dest File: results/hssd/embed_dicts/embed_dict_scene_107734254_176000121.npz\n"
     ]
    },
    {
     "name": "stderr",
     "output_type": "stream",
     "text": [
      "  6%|▌         | 1/17 [00:11<03:02, 11.43s/it]"
     ]
    },
    {
     "name": "stdout",
     "output_type": "stream",
     "text": [
      "Scene: 106366410_174226806\n",
      "Dest File: results/hssd/embed_dicts/embed_dict_scene_106366410_174226806.npz\n"
     ]
    },
    {
     "name": "stderr",
     "output_type": "stream",
     "text": [
      " 12%|█▏        | 2/17 [00:42<05:45, 23.03s/it]"
     ]
    },
    {
     "name": "stdout",
     "output_type": "stream",
     "text": [
      "Scene: 103997895_171031182\n",
      "Dest File: results/hssd/embed_dicts/embed_dict_scene_103997895_171031182.npz\n"
     ]
    },
    {
     "name": "stderr",
     "output_type": "stream",
     "text": [
      " 18%|█▊        | 3/17 [01:12<06:03, 25.98s/it]"
     ]
    },
    {
     "name": "stdout",
     "output_type": "stream",
     "text": [
      "Scene: 102816036\n",
      "Dest File: results/hssd/embed_dicts/embed_dict_scene_102816036.npz\n"
     ]
    },
    {
     "name": "stderr",
     "output_type": "stream",
     "text": [
      " 24%|██▎       | 4/17 [01:41<05:56, 27.45s/it]"
     ]
    },
    {
     "name": "stdout",
     "output_type": "stream",
     "text": [
      "Scene: 108736884_177263634\n",
      "Dest File: results/hssd/embed_dicts/embed_dict_scene_108736884_177263634.npz\n"
     ]
    },
    {
     "name": "stderr",
     "output_type": "stream",
     "text": [
      " 29%|██▉       | 5/17 [02:12<05:45, 28.78s/it]"
     ]
    },
    {
     "name": "stdout",
     "output_type": "stream",
     "text": [
      "Scene: 106366386_174226770\n",
      "Dest File: results/hssd/embed_dicts/embed_dict_scene_106366386_174226770.npz\n"
     ]
    },
    {
     "name": "stderr",
     "output_type": "stream",
     "text": [
      " 35%|███▌      | 6/17 [02:38<05:05, 27.81s/it]"
     ]
    },
    {
     "name": "stdout",
     "output_type": "stream",
     "text": [
      "Scene: 106879080_174887211\n",
      "Dest File: results/hssd/embed_dicts/embed_dict_scene_106879080_174887211.npz\n"
     ]
    },
    {
     "name": "stderr",
     "output_type": "stream",
     "text": [
      " 41%|████      | 7/17 [03:09<04:48, 28.86s/it]"
     ]
    },
    {
     "name": "stdout",
     "output_type": "stream",
     "text": [
      "Scene: 107734176_176000019\n",
      "Dest File: results/hssd/embed_dicts/embed_dict_scene_107734176_176000019.npz\n"
     ]
    },
    {
     "name": "stderr",
     "output_type": "stream",
     "text": [
      " 47%|████▋     | 8/17 [03:40<04:23, 29.27s/it]"
     ]
    },
    {
     "name": "stdout",
     "output_type": "stream",
     "text": [
      "Scene: 105515211_173104185\n",
      "Dest File: results/hssd/embed_dicts/embed_dict_scene_105515211_173104185.npz\n"
     ]
    },
    {
     "name": "stderr",
     "output_type": "stream",
     "text": [
      " 53%|█████▎    | 9/17 [04:12<04:02, 30.36s/it]"
     ]
    },
    {
     "name": "stdout",
     "output_type": "stream",
     "text": [
      "Scene: 102817140\n",
      "Dest File: results/hssd/embed_dicts/embed_dict_scene_102817140.npz\n"
     ]
    },
    {
     "name": "stderr",
     "output_type": "stream",
     "text": [
      " 59%|█████▉    | 10/17 [04:44<03:36, 30.88s/it]"
     ]
    },
    {
     "name": "stdout",
     "output_type": "stream",
     "text": [
      "Scene: 104348361_171513414\n",
      "Dest File: results/hssd/embed_dicts/embed_dict_scene_104348361_171513414.npz\n"
     ]
    },
    {
     "name": "stderr",
     "output_type": "stream",
     "text": [
      " 65%|██████▍   | 11/17 [05:18<03:10, 31.71s/it]"
     ]
    },
    {
     "name": "stdout",
     "output_type": "stream",
     "text": [
      "Scene: 108736800_177263517\n",
      "Dest File: results/hssd/embed_dicts/embed_dict_scene_108736800_177263517.npz\n"
     ]
    },
    {
     "name": "stderr",
     "output_type": "stream",
     "text": [
      " 71%|███████   | 12/17 [05:46<02:33, 30.64s/it]"
     ]
    },
    {
     "name": "stdout",
     "output_type": "stream",
     "text": [
      "Scene: 108736779_177263484\n",
      "Dest File: results/hssd/embed_dicts/embed_dict_scene_108736779_177263484.npz\n"
     ]
    },
    {
     "name": "stderr",
     "output_type": "stream",
     "text": [
      " 76%|███████▋  | 13/17 [06:19<02:04, 31.20s/it]"
     ]
    },
    {
     "name": "stdout",
     "output_type": "stream",
     "text": [
      "Scene: 106878960_174887073\n",
      "Dest File: results/hssd/embed_dicts/embed_dict_scene_106878960_174887073.npz\n"
     ]
    },
    {
     "name": "stderr",
     "output_type": "stream",
     "text": [
      " 82%|████████▏ | 14/17 [06:46<01:30, 30.07s/it]"
     ]
    },
    {
     "name": "stdout",
     "output_type": "stream",
     "text": [
      "Scene: 102344094\n",
      "Dest File: results/hssd/embed_dicts/embed_dict_scene_102344094.npz\n"
     ]
    },
    {
     "name": "stderr",
     "output_type": "stream",
     "text": [
      " 88%|████████▊ | 15/17 [07:17<01:00, 30.28s/it]"
     ]
    },
    {
     "name": "stdout",
     "output_type": "stream",
     "text": [
      "Scene: 106366104_174226332\n",
      "Dest File: results/hssd/embed_dicts/embed_dict_scene_106366104_174226332.npz\n"
     ]
    },
    {
     "name": "stderr",
     "output_type": "stream",
     "text": [
      " 94%|█████████▍| 16/17 [07:45<00:29, 29.68s/it]"
     ]
    },
    {
     "name": "stdout",
     "output_type": "stream",
     "text": [
      "Scene: 107733960_175999701\n",
      "Dest File: results/hssd/embed_dicts/embed_dict_scene_107733960_175999701.npz\n"
     ]
    },
    {
     "name": "stderr",
     "output_type": "stream",
     "text": [
      "100%|██████████| 17/17 [08:12<00:00, 28.97s/it]\n"
     ]
    }
   ],
   "source": [
    "# dataset = \"hssd\"\n",
    "\n",
    "# feature_maps_dir = f\"results/{dataset}/feature_maps\"\n",
    "# feature_dicts_dir = f\"results/{dataset}/embed_dicts\"\n",
    "# os.makedirs(feature_dicts_dir, exist_ok=True)\n",
    "\n",
    "# #If not string, then change type to string\n",
    "# str_tuple_wrap = lambda var: str(tuple(var)) if type(var) is not str else var\n",
    "\n",
    "# for file in tqdm(os.listdir(feature_maps_dir)):\n",
    "\n",
    "#     source_file_path = os.path.join(feature_maps_dir, file)\n",
    "#     scene_id = file.split(\"scene_\")[-1].split(\".\")[0]\n",
    "#     print(f\"Scene: {scene_id}\")\n",
    "\n",
    "#     dest_file_path = os.path.join(feature_dicts_dir, f\"embed_dict_scene_{scene_id}.npz\")\n",
    "#     print(f\"Dest File: {dest_file_path}\")\n",
    "\n",
    "#     feature_map = dict(np.load(source_file_path, allow_pickle=True))[\"arr\"]\n",
    "#     feature_dict = feature_map_to_dict(feature_map)\n",
    "\n",
    "#     #Save Embed Dict\n",
    "#     np.savez(dest_file_path, **{str_tuple_wrap(k):v for k,v in feature_dict.items()})"
   ]
  },
  {
   "cell_type": "code",
   "execution_count": 28,
   "id": "02d9945c",
   "metadata": {},
   "outputs": [
    {
     "data": {
      "image/png": "[encoded data removed]",
      "text/plain": [
       "<Figure size 640x480 with 1 Axes>"
      ]
     },
     "metadata": {},
     "output_type": "display_data"
    }
   ],
   "source": [
    "feature_map = feature_map[\"arr\"]\n",
    "\n",
    "plot_feature_map(feature_map)"
   ]
  },
  {
   "cell_type": "code",
   "execution_count": 29,
   "id": "65a9093e",
   "metadata": {},
   "outputs": [],
   "source": [
    "feature_dict = feature_map_to_dict(feature_map)\n"
   ]
  },
  {
   "cell_type": "code",
   "execution_count": 30,
   "id": "e3f754be",
   "metadata": {},
   "outputs": [
    {
     "data": {
      "text/plain": [
       "<matplotlib.image.AxesImage at 0x7f33e4b53f40>"
      ]
     },
     "execution_count": 30,
     "metadata": {},
     "output_type": "execute_result"
    },
    {
     "data": {
      "image/png": "[encoded data removed]",
      "text/plain": [
       "<Figure size 640x480 with 1 Axes>"
      ]
     },
     "metadata": {},
     "output_type": "display_data"
    }
   ],
   "source": [
    "#Check if feature dict is same as feature map\n",
    "non_zero_inds = np.array(list(feature_dict.keys()))\n",
    "\n",
    "plot_arr = np.zeros((600, 600))\n",
    "plot_arr[non_zero_inds[:, 0], non_zero_inds[:, 1]] = 1\n",
    "\n",
    "plt.imshow(plot_arr)"
   ]
  },
  {
   "cell_type": "code",
   "execution_count": null,
   "id": "f5e85153",
   "metadata": {},
   "outputs": [],
   "source": []
  },
  {
   "cell_type": "markdown",
   "id": "4a7bb2b0",
   "metadata": {},
   "source": []
  },
  {
   "cell_type": "markdown",
   "id": "ca202919",
   "metadata": {},
   "source": [
    "### Timings Results"
   ]
  },
  {
   "cell_type": "markdown",
   "id": "b87d1007",
   "metadata": {},
   "source": [
    "#### Navigation: Updating Map"
   ]
  },
  {
   "cell_type": "code",
   "execution_count": 1,
   "id": "3cd81f9c",
   "metadata": {},
   "outputs": [],
   "source": [
    "import os\n",
    "import numpy as np"
   ]
  },
  {
   "cell_type": "code",
   "execution_count": 45,
   "id": "5d13e2da",
   "metadata": {},
   "outputs": [
    {
     "data": {
      "text/plain": [
       "[0.3060486316680908,\n",
       " 1.146601915359497,\n",
       " 0.22862553596496582,\n",
       " 0.1949458122253418]"
      ]
     },
     "execution_count": 45,
     "metadata": {},
     "output_type": "execute_result"
    }
   ],
   "source": [
    "nav_dir = \"/mnt/vlfm_query_embed/timings/nav/update_map/text/blip\"\n",
    "\n",
    "results_path = os.path.join(nav_dir, \"times_grid_1.txt\")\n",
    "\n",
    "with open(results_path, \"r\") as f:\n",
    "    results = f.readlines()\n",
    "\n",
    "results = [eval(elem.rstrip()) for elem in results][1:]\n",
    "results[:4]"
   ]
  },
  {
   "cell_type": "code",
   "execution_count": 46,
   "id": "94bd0f86",
   "metadata": {},
   "outputs": [
    {
     "name": "stdout",
     "output_type": "stream",
     "text": [
      "Total Counts: 605\n",
      "Mean: 0.2910964134310888\n",
      "Median: 0.27887511253356934\n",
      "Std: 0.07467821823622212\n"
     ]
    }
   ],
   "source": [
    "print(f\"Total Counts: {len(results)}\")\n",
    "print(f\"Mean: {np.mean(results)}\")\n",
    "print(f\"Median: {np.median(results)}\")\n",
    "print(f\"Std: {np.std(results)}\")"
   ]
  },
  {
   "cell_type": "markdown",
   "id": "ac83dbd8",
   "metadata": {},
   "source": [
    "#### Evaluation: Loading Sim Dict"
   ]
  },
  {
   "cell_type": "code",
   "execution_count": 117,
   "id": "c6b68875",
   "metadata": {},
   "outputs": [
    {
     "data": {
      "text/plain": [
       "[0.929624080657959, 0.9340953826904297, 0.9250288009643555, 0.9256198406219482]"
      ]
     },
     "execution_count": 117,
     "metadata": {},
     "output_type": "execute_result"
    }
   ],
   "source": [
    "mode = \"multi\"\n",
    "grid_size = 20\n",
    "\n",
    "root_dir = \"/mnt/vlfm_query_embed/timings/eval/load_sim\"\n",
    "mode_dir = os.path.join(root_dir, mode, \"blip/top_1\")\n",
    "\n",
    "results_path = os.path.join(mode_dir, f\"times_grid_{grid_size}.txt\")\n",
    "\n",
    "with open(results_path, \"r\") as f:\n",
    "    results = f.readlines()\n",
    "\n",
    "results = [eval(elem.rstrip()) for elem in results][1:500]\n",
    "results[:4]"
   ]
  },
  {
   "cell_type": "code",
   "execution_count": 118,
   "id": "fc0064d7",
   "metadata": {},
   "outputs": [
    {
     "name": "stdout",
     "output_type": "stream",
     "text": [
      "Total Counts: 499\n",
      "Mean: 0.9991949455054824\n",
      "Median: 0.9668045043945312\n",
      "Std: 0.08018865097469832\n"
     ]
    }
   ],
   "source": [
    "print(f\"Total Counts: {len(results)}\")\n",
    "print(f\"Mean: {np.mean(results)}\")\n",
    "print(f\"Median: {np.median(results)}\")\n",
    "print(f\"Std: {np.std(results)}\")"
   ]
  },
  {
   "cell_type": "code",
   "execution_count": 116,
   "id": "9bdd6738",
   "metadata": {},
   "outputs": [
    {
     "data": {
      "text/plain": [
       "94.54198473282443"
      ]
     },
     "execution_count": 116,
     "metadata": {},
     "output_type": "execute_result"
    }
   ],
   "source": [
    "((0.262 - 0.0143)/0.262)*100"
   ]
  },
  {
   "cell_type": "code",
   "execution_count": 89,
   "id": "f0d1023c",
   "metadata": {},
   "outputs": [
    {
     "data": {
      "text/plain": [
       "0.812720848056537"
      ]
     },
     "execution_count": 89,
     "metadata": {},
     "output_type": "execute_result"
    }
   ],
   "source": [
    "((5.66 - 1.06)/5.66)"
   ]
  },
  {
   "cell_type": "markdown",
   "id": "72ea9744",
   "metadata": {},
   "source": [
    "### OneMap Read Results"
   ]
  },
  {
   "cell_type": "code",
   "execution_count": null,
   "id": "4ff80b84",
   "metadata": {},
   "outputs": [],
   "source": [
    "from eval.habitat_evaluator import HabitatEvaluator\n",
    "from config import load_eval_config\n",
    "# from eval import MONActor\n",
    "from eval.habitat_evaluator import Result\n",
    "\n",
    "\n",
    "# Load the evaluation configuration\n",
    "eval_config = load_eval_config()\n",
    "# Create the HabitatEvaluator object\n",
    "evaluator = HabitatEvaluator(eval_config.EvalConf, None)"
   ]
  },
  {
   "cell_type": "markdown",
   "id": "43027ca9",
   "metadata": {},
   "source": [
    "### Rough"
   ]
  },
  {
   "cell_type": "code",
   "execution_count": 26,
   "id": "03067fb5",
   "metadata": {},
   "outputs": [],
   "source": [
    "import numpy as np\n",
    "import pandas as pd\n",
    "from tabulate import tabulate\n",
    "\n",
    "from eval.dataset_utils import *"
   ]
  },
  {
   "cell_type": "code",
   "execution_count": 23,
   "id": "7a21d43d",
   "metadata": {},
   "outputs": [
    {
     "name": "stdout",
     "output_type": "stream",
     "text": [
      "habitat-lab/data/datasets/objectnav/hssd/val_rare/ignore_scenes.txt\n",
      "\n",
      "Loaded 17 scenes and 1282 episodes.\n"
     ]
    }
   ],
   "source": [
    "episodes = []\n",
    "scene_data = {}\n",
    "object_nav_path = \"habitat-lab/data/datasets/objectnav/hssd/val_rare/content/\"\n",
    "\n",
    "episodes, scene_data = HM3DDataset.load_hm3d_episodes(episodes, scene_data, \n",
    "                                                      object_nav_path)"
   ]
  },
  {
   "cell_type": "code",
   "execution_count": null,
   "id": "c0f43b2d",
   "metadata": {},
   "outputs": [],
   "source": [
    "def read_results(path, sort_by, episodes):\n",
    "    state_dir = os.path.join(path, 'state')\n",
    "    state_results = {}\n",
    "    object_query = {}\n",
    "    scene_name = {}\n",
    "    spl = {}\n",
    "\n",
    "    # Check if the state directory exists\n",
    "    if not os.path.isdir(state_dir):\n",
    "        print(f\"Error: {state_dir} is not a valid directory\")\n",
    "        return state_results\n",
    "    pose_dir = os.path.join(os.path.abspath(os.path.join(state_dir, os.pardir)), \"trajectories\")\n",
    "\n",
    "    # Iterate through all files in the state directory\n",
    "    for filename in os.listdir(state_dir):\n",
    "        if filename.startswith('state_') and filename.endswith('.txt'):\n",
    "            try:\n",
    "                # Extract the experiment number from the filename\n",
    "                #experiment_num = int(filename[6:-4])  # removes 'state_' and '.txt'    #TODO: Commented\n",
    "                experiment_num = int(filename.split(\"_\")[-1].split(\".txt\")[0])\n",
    "                # if experiment_num > 1045:\n",
    "                #     continue\n",
    "                # Read the content of the file\n",
    "                with open(os.path.join(state_dir, filename), 'r') as file:\n",
    "                    content = file.read().strip()\n",
    "\n",
    "                # Convert the content to a number (assuming it's a float)\n",
    "                state_value = int(content)\n",
    "                # Store the result in the dictionary\n",
    "                state_results[experiment_num] = state_value\n",
    "                object_query[experiment_num] = episodes[experiment_num].obj_sequence[0]\n",
    "                scene_name[experiment_num] = episodes[experiment_num].scene_id\n",
    "                poses = np.genfromtxt(os.path.join(pose_dir, \"poses_\" + str(experiment_num) + \".csv\"), delimiter=\",\")\n",
    "                deltas = poses[1:, :2] - poses[:-1, :2]\n",
    "                distance_traveled = np.linalg.norm(deltas, axis=1).sum()\n",
    "                if state_value == 1:\n",
    "                    spl[experiment_num] = episodes[experiment_num].best_dist / max(episodes[experiment_num].best_dist, distance_traveled)\n",
    "                else:\n",
    "                    spl[experiment_num] = 0\n",
    "                if episodes[experiment_num].episode_id != experiment_num:\n",
    "                    print(f\"Warning, exerpiment_num {experiment_num} does not correctly resolve to episode_id {self.episodes[experiment_num].episode_id}\")\n",
    "            except ValueError:\n",
    "                print(f\"Warning: Skipping {filename} due to invalid format\")\n",
    "            except Exception as e:\n",
    "                print(f\"Error reading {filename}: {str(e)}\")\n",
    "    dict_res = {\"state\": state_results, \"obj\" : object_query, \"scene\" : scene_name, \"spl\" : spl}\n",
    "    data = pd.DataFrame.from_dict(dict_res)\n",
    "\n",
    "    states = data[\"state\"].unique()\n",
    "\n",
    "    def calculate_percentages(group):\n",
    "        total = len(group)\n",
    "        result = pd.Series({Result(state).name: (group['state'] == state).sum() / total for state in states})\n",
    "\n",
    "        # Calculate average SPL and multiply by 100\n",
    "        avg_spl = group['spl'].mean()\n",
    "        result['Average SPL'] = avg_spl\n",
    "\n",
    "        return result\n",
    "\n",
    "    # Per-object results\n",
    "    object_results = data.groupby('obj').apply(calculate_percentages).reset_index()\n",
    "    object_results = object_results.rename(columns={'obj': 'Object'})\n",
    "\n",
    "    # Per-scene results\n",
    "    scene_results = data.groupby('scene').apply(calculate_percentages).reset_index()\n",
    "    scene_results = scene_results.rename(columns={'scene': 'Scene'})\n",
    "\n",
    "    # Overall results\n",
    "    overall_percentages = calculate_percentages(data)\n",
    "    overall_row = pd.DataFrame([{'Object': 'Overall'} | overall_percentages.to_dict()])\n",
    "    object_results = pd.concat([overall_row, object_results], ignore_index=True)\n",
    "\n",
    "    overall_row = pd.DataFrame([{'Scene': 'Overall'} | overall_percentages.to_dict()])\n",
    "    scene_results = pd.concat([overall_row, scene_results], ignore_index=True)\n",
    "\n",
    "    # Sorting\n",
    "    object_results = object_results.sort_values(by=sort_by, ascending=False)\n",
    "    scene_results = scene_results.sort_values(by=sort_by, ascending=False)\n",
    "\n",
    "    # Function to format percentages\n",
    "    def format_percentages(val):\n",
    "        return f\"{val:.2%}\" if isinstance(val, float) else val\n",
    "\n",
    "    # Apply formatting to all columns except the first one (Object/Scene)\n",
    "    object_table = object_results.iloc[:, 0].to_frame().join(\n",
    "        object_results.iloc[:, 1:].applymap(format_percentages))\n",
    "    scene_table = scene_results.iloc[:, 0].to_frame().join(\n",
    "        scene_results.iloc[:, 1:].applymap(format_percentages))\n",
    "\n",
    "    print(f\"Results by Object (sorted by {sort_by} rate, descending):\")\n",
    "    print(tabulate(object_table, headers='keys', tablefmt='pretty', floatfmt='.2%'))\n",
    "\n",
    "    print(f\"\\nResults by Scene (sorted by {sort_by} rate, descending):\")\n",
    "    print(tabulate(scene_table, headers='keys', tablefmt='pretty', floatfmt='.2%'))\n",
    "    return data"
   ]
  },
  {
   "cell_type": "code",
   "execution_count": null,
   "id": "84b0ffda",
   "metadata": {},
   "outputs": [],
   "source": [
    "poses = np.genfromtxt(\"results/hssd/trajectories/poses_0.csv\", delimiter=\",\")\n",
    "deltas = poses[1:, :2] - poses[:-1, :2]"
   ]
  },
  {
   "cell_type": "code",
   "execution_count": 18,
   "id": "38ed38bb",
   "metadata": {},
   "outputs": [],
   "source": [
    "get_pose_path = lambda ep_num: f\"results/hssd/trajectories/poses_{ep_num}.csv\"\n",
    "\n",
    "errors = []\n",
    "for ep_num in range(378):\n",
    "\n",
    "    try:\n",
    "        pose_path = get_pose_path(ep_num)\n",
    "\n",
    "        poses = np.genfromtxt(pose_path, delimiter=\",\")\n",
    "        deltas = poses[1:, :2] - poses[:-1, :2]\n",
    "\n",
    "        if poses.shape[0] < 500: print(ep_num)\n",
    "    \n",
    "    except Exception as e:\n",
    "        # print(e)\n",
    "        errors.append(ep_num)\n"
   ]
  },
  {
   "cell_type": "code",
   "execution_count": 15,
   "id": "b3bec953",
   "metadata": {},
   "outputs": [
    {
     "data": {
      "text/plain": [
       "500"
      ]
     },
     "execution_count": 15,
     "metadata": {},
     "output_type": "execute_result"
    }
   ],
   "source": [
    "poses.shape[0]"
   ]
  },
  {
   "cell_type": "code",
   "execution_count": 14,
   "id": "7eb65f1c",
   "metadata": {},
   "outputs": [
    {
     "data": {
      "text/plain": [
       "array([[  -0.035743,      10.454,     0.17294,      1.4748],\n",
       "       [  -0.035743,      10.454,     0.17294,       1.562],\n",
       "       [  -0.035743,      10.454,     0.17294,      1.6493],\n",
       "       [  -0.035743,      10.454,     0.17294,      1.7366]])"
      ]
     },
     "execution_count": 14,
     "metadata": {},
     "output_type": "execute_result"
    }
   ],
   "source": [
    "poses[:4, :]"
   ]
  },
  {
   "cell_type": "code",
   "execution_count": null,
   "id": "b639278e",
   "metadata": {},
   "outputs": [],
   "source": []
  }
 ],
 "metadata": {
  "kernelspec": {
   "display_name": "one_map",
   "language": "python",
   "name": "python3"
  },
  "language_info": {
   "codemirror_mode": {
    "name": "ipython",
    "version": 3
   },
   "file_extension": ".py",
   "mimetype": "text/x-python",
   "name": "python",
   "nbconvert_exporter": "python",
   "pygments_lexer": "ipython3",
   "version": "3.9.19"
  }
 },
 "nbformat": 4,
 "nbformat_minor": 5
}
